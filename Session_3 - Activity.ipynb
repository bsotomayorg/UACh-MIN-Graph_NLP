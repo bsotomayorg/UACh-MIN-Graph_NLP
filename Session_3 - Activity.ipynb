{
  "nbformat": 4,
  "nbformat_minor": 0,
  "metadata": {
    "colab": {
      "provenance": [],
      "toc_visible": true
    },
    "kernelspec": {
      "name": "python3",
      "display_name": "Python 3"
    },
    "language_info": {
      "name": "python"
    }
  },
  "cells": [
    {
      "cell_type": "markdown",
      "source": [
        "# 1. Practical Session: Networks of music preferences (LastFM dataset)"
      ],
      "metadata": {
        "id": "6hNOG4R-WzBq"
      }
    },
    {
      "cell_type": "markdown",
      "source": [
        "For this activity, we will create graphs using [NetworkX](https://networkx.org/) and traditional libraries for scientific computing such as [Pandas](https://pandas.pydata.org/) and [NumPy](https://numpy.org/) (data transformation and processing) plus [Matplotlib](https://matplotlib.org/) (data visualization)."
      ],
      "metadata": {
        "id": "Z_ngArrjXi5y"
      }
    },
    {
      "cell_type": "markdown",
      "source": [
        "\n",
        "## 1.1. About the dataset\n"
      ],
      "metadata": {
        "id": "EYtGa0SzXDtZ"
      }
    },
    {
      "cell_type": "markdown",
      "source": [
        "We will use a reduced version of the LastFM dataset publicly available from works `[1-3]`. This dataset contains the recordings of 1000 users from Feb. 2005 until Jun. 2009. This dataset contains the following columns:\n",
        "\n",
        "+ `userid`: User ID (anonymized)\n",
        "+ `timestamp`: Timestamp of the record. The format is `YYYY-MM-DD` followed by `hh:mm:ss`. Example: `2009-04-08T01:57:47Z`.\n",
        "+ `musicbrainz-artist-id`: Artists ID.\n",
        "+ `artist-name`: Artist name.\n",
        "+ `musicbarinz-track-id`: Track ID.\n",
        "+ `track-name`: Track name.\n",
        "\n",
        "For this activity, we will use the `userid`, `timestamp`, `artist-id`, and `artist-name`."
      ],
      "metadata": {
        "id": "HXIr1lbdXFQ6"
      }
    },
    {
      "cell_type": "markdown",
      "source": [
        "---"
      ],
      "metadata": {
        "id": "FWL-prl9rb3Q"
      }
    },
    {
      "cell_type": "markdown",
      "source": [
        "## 1.2. Objectives and structure of practical session "
      ],
      "metadata": {
        "id": "Eyahybw3XILD"
      }
    },
    {
      "cell_type": "markdown",
      "source": [
        "### 1.2.1. Objectives"
      ],
      "metadata": {
        "id": "n9mkuW8RJ0IW"
      }
    },
    {
      "cell_type": "markdown",
      "source": [
        "1. Getting to know how to create, visualize, and analyse networks using NetworkX.\n",
        "2. Apply widely used topology and centrality metrics.\n",
        "3. Define networks across time for longitudinal analyses. "
      ],
      "metadata": {
        "id": "Hp0ZK6wtKtkS"
      }
    },
    {
      "cell_type": "markdown",
      "source": [
        "### 1.2.2. Structure"
      ],
      "metadata": {
        "id": "0QTQ5k_bKqBs"
      }
    },
    {
      "cell_type": "markdown",
      "source": [
        "**Part I : Data Exploration.**\n",
        "\n",
        "Explore, clean, transform, and visualize data for  further analyses.\n",
        "\n"
      ],
      "metadata": {
        "id": "CuEUM5BbX8YR"
      }
    },
    {
      "cell_type": "markdown",
      "source": [
        "**Part II : Analyses of network of artists.**\n",
        "\n",
        "Create, visualize, and analyze a binary Graph $G(V,E)$ such that $V$ correspond to a set of artists found in this dataset (i.e., vertices/nodes). Two artists $v_i$ and $v_j$ are connected by an edge $e_{ij}=(n_i, n_j) \\in E$ if a user listen to both of them in a given time $t \\in T$."
      ],
      "metadata": {
        "id": "QDmuTnKxMfy6"
      }
    },
    {
      "cell_type": "markdown",
      "source": [
        "**Part III : Analyses of evolving networks based on user's preferences.**\n",
        "\n",
        "Create, visualize, and analyze *weighted graphs* $G_t(V_t, E_t, W_t)$ for every month $t \\in T$ in our dataset. The set of nodes $V_t$ corresponds to a set of artists with records at month $t$. Two artists $v_{t, i}$ and $v_{t, j}$ are connected by an edge $e_{t,ij}=(n_{t,i}, n_{t,j}) \\in E$ if a user listen to both of them in a given month $t$. Such edges contains a weight $w_{t,ij} \\in W_t$ corresponds to the amount of users that connect both artists $v_{t,i}$ and $v_{t,j}$.\n",
        "\n",
        "Answer to the following questions:\n",
        "+ Is the network topology stable?\n",
        "+ For this group of users, which is the most central artist? Is this most central artist the same if we use other centrality measures?\n",
        "+ Is this centrality measures stable across time?"
      ],
      "metadata": {
        "id": "9P2VAVb_MhDL"
      }
    },
    {
      "cell_type": "markdown",
      "source": [
        "---"
      ],
      "metadata": {
        "id": "2qHFdASgrZVm"
      }
    },
    {
      "cell_type": "markdown",
      "source": [
        "## 1.3. Playground"
      ],
      "metadata": {
        "id": "XLKrw9bRZ2Jy"
      }
    },
    {
      "cell_type": "markdown",
      "source": [
        "### 1.3.1. Part 1: Data Exploration"
      ],
      "metadata": {
        "id": "k_fsg37IXMTo"
      }
    },
    {
      "cell_type": "markdown",
      "source": [
        "**Required libs**"
      ],
      "metadata": {
        "id": "dZidM0j-ZSsx"
      }
    },
    {
      "cell_type": "code",
      "source": [
        "import matplotlib.pyplot as plt\n",
        "import networkx as nx\n",
        "import pandas as pd\n",
        "import numpy as np"
      ],
      "metadata": {
        "id": "8qQ_KVflKBxe"
      },
      "execution_count": null,
      "outputs": []
    },
    {
      "cell_type": "markdown",
      "source": [
        "**Reading dataset and data exploration**"
      ],
      "metadata": {
        "id": "ejjhZWaLZdC6"
      }
    },
    {
      "cell_type": "code",
      "source": [
        "df_timestamp = pd.read_csv(\"DS_userid-playlist-record.tsv\", sep='\\t')"
      ],
      "metadata": {
        "id": "hGfJKGOUJ5cJ"
      },
      "execution_count": null,
      "outputs": []
    },
    {
      "cell_type": "code",
      "source": [
        "df_timestamp"
      ],
      "metadata": {
        "id": "rBq1JkjlKENl"
      },
      "execution_count": null,
      "outputs": []
    },
    {
      "cell_type": "code",
      "source": [],
      "metadata": {
        "id": "DAg6x8_Sp4oo"
      },
      "execution_count": null,
      "outputs": []
    },
    {
      "cell_type": "markdown",
      "source": [
        "**Data cleaning**"
      ],
      "metadata": {
        "id": "7AGiTRQwaJha"
      }
    },
    {
      "cell_type": "markdown",
      "source": [
        "Delete from the dataset such rows that contain `NaN`s."
      ],
      "metadata": {
        "id": "xgsj1BSPaLTD"
      }
    },
    {
      "cell_type": "code",
      "source": [],
      "metadata": {
        "id": "zgN3iYrHp6Vr"
      },
      "execution_count": null,
      "outputs": []
    },
    {
      "cell_type": "markdown",
      "source": [
        "Show the amount of unique artist names in the dataset"
      ],
      "metadata": {
        "id": "l76R4NeVaSNx"
      }
    },
    {
      "cell_type": "code",
      "source": [],
      "metadata": {
        "id": "sSmkAAo2p7hq"
      },
      "execution_count": null,
      "outputs": []
    },
    {
      "cell_type": "markdown",
      "source": [
        "Show the amount of unique users"
      ],
      "metadata": {
        "id": "UWf7zvZGaW5x"
      }
    },
    {
      "cell_type": "code",
      "source": [],
      "metadata": {
        "id": "Y9LD9hfxp9jZ"
      },
      "execution_count": null,
      "outputs": []
    },
    {
      "cell_type": "markdown",
      "source": [
        "Show the amount of records (i.e., rows) per yearh and month (`YYYY-MM`) format. Use matlpotlib to create whether a histogram or scatter plot (i.e., x-axis contains the year-month and y-axis the count of records/rows."
      ],
      "metadata": {
        "id": "A3rkhLoLagCp"
      }
    },
    {
      "cell_type": "code",
      "source": [],
      "metadata": {
        "id": "WFR9_brgp-RI"
      },
      "execution_count": null,
      "outputs": []
    },
    {
      "cell_type": "markdown",
      "source": [
        "---"
      ],
      "metadata": {
        "id": "aerIVx-qa7nx"
      }
    },
    {
      "cell_type": "markdown",
      "source": [
        "### 1.3.2. Part 2: Creation of one single network\n"
      ],
      "metadata": {
        "id": "xoYdqjttXOgZ"
      }
    },
    {
      "cell_type": "markdown",
      "source": [
        "+ Definition of network based of artists based on user's preferences. To this purpose, use the data for only one month. Then, model the solution using a binary graph.\n"
      ],
      "metadata": {
        "id": "5xB1NrKPXRcI"
      }
    },
    {
      "cell_type": "markdown",
      "source": [
        "#### 1.3.2.1. Timestamp selection"
      ],
      "metadata": {
        "id": "MZkxd_YnbhSU"
      }
    },
    {
      "cell_type": "markdown",
      "source": [
        "Select only one month (e..g, Jan. 2007)"
      ],
      "metadata": {
        "id": "yTf_nPjpMLen"
      }
    },
    {
      "cell_type": "code",
      "source": [],
      "metadata": {
        "id": "tUjlgNa5qAix"
      },
      "execution_count": null,
      "outputs": []
    },
    {
      "cell_type": "markdown",
      "source": [
        "Get the amount of users and artists that are part of the records for the month you selected. This will be used to create the matrix of nodes/vertices and edges (i.e. $V \\times E$)."
      ],
      "metadata": {
        "id": "nK9Y1jiQbzPL"
      }
    },
    {
      "cell_type": "code",
      "source": [],
      "metadata": {
        "id": "AYGEX4nLqDMg"
      },
      "execution_count": null,
      "outputs": []
    },
    {
      "cell_type": "markdown",
      "source": [
        "#### 1.3.2.2. Definition of matrix $ V \\times U$"
      ],
      "metadata": {
        "id": "5W0I5u_fOp9P"
      }
    },
    {
      "cell_type": "markdown",
      "source": [
        "Create a matrix of vertices and edges (i.e. $V \\times U$) such that it stores the set of artists ($V$) that each user ($U$) listened to. \n",
        "\n",
        "Make sure this matrix contains only 0's and 1's as values."
      ],
      "metadata": {
        "id": "Zsc4j6ldcOIx"
      }
    },
    {
      "cell_type": "code",
      "source": [
        "V = # number of artists\n",
        "U = # number of users\n",
        "\n",
        "print(\"V = %i; U = %i\" % (V, U))"
      ],
      "metadata": {
        "id": "yXOgBybxdRiR"
      },
      "execution_count": null,
      "outputs": []
    },
    {
      "cell_type": "markdown",
      "source": [
        "Populate matrix $V \\times U$ (i.e. `mat_VU`)"
      ],
      "metadata": {
        "id": "NTN1EqCjdHYq"
      }
    },
    {
      "cell_type": "code",
      "source": [],
      "metadata": {
        "id": "kWdnnJE-PNwX"
      },
      "execution_count": null,
      "outputs": []
    },
    {
      "cell_type": "code",
      "source": [],
      "metadata": {
        "id": "UouF_JhCWibn"
      },
      "execution_count": null,
      "outputs": []
    },
    {
      "cell_type": "markdown",
      "source": [
        "Check your artists-users matrix by plotting it! \n",
        "\n",
        "You can use `plt.imshow(mat_VU, cmap='Greys_r')` if you want."
      ],
      "metadata": {
        "id": "lv0D0jHudsq6"
      }
    },
    {
      "cell_type": "code",
      "source": [],
      "metadata": {
        "id": "BJRb2rSuTZRv"
      },
      "execution_count": null,
      "outputs": []
    },
    {
      "cell_type": "markdown",
      "source": [
        "#### 1.3.2.3. Binary graph's adjacency matrix"
      ],
      "metadata": {
        "id": "4mYqUKZHT1Lf"
      }
    },
    {
      "cell_type": "markdown",
      "source": [
        "We can define a routine to convert our artist-users matrix into a binary adjacency matrix $A$.\n",
        "\n",
        "In order to do so, we might check whether two artists $v_i$ and $v_j$ were listened to by at least one user.\n",
        "\n",
        "Make sure that the adjacency matrix contains only 0's and 1's! Also, consider that our binary matrix represents an undirected graph. Thus, $A$ is symmetric (and you can reduce the computations to $\\frac{V \\cdot (V-1)}{2}$ operations (Still $\\mathcal{O}(V^2)$ tho)."
      ],
      "metadata": {
        "id": "_-A3gnPIek8R"
      }
    },
    {
      "cell_type": "code",
      "source": [],
      "metadata": {
        "id": "8LS-Zn5CZfOv"
      },
      "execution_count": null,
      "outputs": []
    },
    {
      "cell_type": "code",
      "source": [
        "A = # ..."
      ],
      "metadata": {
        "id": "qWlT-gJOfNf6"
      },
      "execution_count": null,
      "outputs": []
    },
    {
      "cell_type": "code",
      "source": [
        "# plot it!"
      ],
      "metadata": {
        "id": "bmqwh7ZEeNX9"
      },
      "execution_count": null,
      "outputs": []
    },
    {
      "cell_type": "markdown",
      "source": [
        "#### 1.3.2.4. Graph Visualization"
      ],
      "metadata": {
        "id": "99rnK6hkaHXX"
      }
    },
    {
      "cell_type": "markdown",
      "source": [
        "Now, let's create a graph that contains the information have in our adjacency matrix $A$.\n",
        "\n",
        "Using Networkx, we can create a network using the adjacency matrix as input. For example, to create a graph as `G_bin`, we do:"
      ],
      "metadata": {
        "id": "7FFpNGXLgCGy"
      }
    },
    {
      "cell_type": "code",
      "source": [],
      "metadata": {
        "id": "kEBfWuHcqHXI"
      },
      "execution_count": null,
      "outputs": []
    },
    {
      "cell_type": "markdown",
      "source": [
        "We can use a circular layout as first visualization of our network:"
      ],
      "metadata": {
        "id": "v1JatZeYgY48"
      }
    },
    {
      "cell_type": "code",
      "source": [],
      "metadata": {
        "id": "HadtzIpPaaAG"
      },
      "execution_count": null,
      "outputs": []
    },
    {
      "cell_type": "markdown",
      "source": [
        "To many connections? let's try with the Spring layout:"
      ],
      "metadata": {
        "id": "V8uInoqqge1S"
      }
    },
    {
      "cell_type": "code",
      "source": [
        "\n"
      ],
      "metadata": {
        "id": "4ImNLJU7am8p"
      },
      "execution_count": null,
      "outputs": []
    },
    {
      "cell_type": "markdown",
      "source": [
        "* What can we observe already? Is it a full graph? "
      ],
      "metadata": {
        "id": "Ka9LeWTfgmm7"
      }
    },
    {
      "cell_type": "markdown",
      "source": [
        "#### 1.3.2.5. Visualization of the largest (main) component"
      ],
      "metadata": {
        "id": "okrrP2hma0NZ"
      }
    },
    {
      "cell_type": "markdown",
      "source": [
        "Some networks may be not fully-connected. In this sub-section we will focus our analyses only in the largest component of our graph.\n",
        "\n",
        "In order to do so, we need to detect every connected components as sub-graphs:"
      ],
      "metadata": {
        "id": "FyesHenBg4a6"
      }
    },
    {
      "cell_type": "code",
      "source": [
        "S_bin = [G_bin.subgraph(c).copy() for c in nx.connected_components(G_bin)]"
      ],
      "metadata": {
        "id": "g6w7HvICaZ-P"
      },
      "execution_count": null,
      "outputs": []
    },
    {
      "cell_type": "code",
      "source": [
        "print(\"Number of nodes per component:\")\n",
        "np.array([ len(S_bin[i]) for i in range(len(S_bin))])"
      ],
      "metadata": {
        "id": "kZFjRS5ybN35"
      },
      "execution_count": null,
      "outputs": []
    },
    {
      "cell_type": "markdown",
      "source": [
        "Let's visualize the largest components using circular and spring layouts:"
      ],
      "metadata": {
        "id": "ppLiyovNhMjS"
      }
    },
    {
      "cell_type": "code",
      "source": [
        "# computing layouts\n",
        "pos = nx.layout.circular_layout(S_bin[0])\n",
        "pos = nx.spring_layout(S_bin[0], pos=pos, k=0.35, iterations=100, seed=0)"
      ],
      "metadata": {
        "id": "zK168dkcIib8"
      },
      "execution_count": null,
      "outputs": []
    },
    {
      "cell_type": "code",
      "source": [
        "# plot it"
      ],
      "metadata": {
        "id": "vtOEz-fdJ6Zh"
      },
      "execution_count": null,
      "outputs": []
    },
    {
      "cell_type": "markdown",
      "source": [
        "**Note:** We are considering one month and the connection only needs one shared artist. Shall we include a higher threshold to connect two users?"
      ],
      "metadata": {
        "id": "QoiD_LJKcCS_"
      }
    },
    {
      "cell_type": "markdown",
      "source": [
        "#### 1.3.2.6. Topology analysis of the largest component"
      ],
      "metadata": {
        "id": "IyJVnsH8delo"
      }
    },
    {
      "cell_type": "markdown",
      "source": [
        "How is the structure of our largest sub-graph? In this part, we need to compute some topology measures. Specifically, we will compute:\n",
        "+ the network size, \n",
        "+ number of links, \n",
        "+ average degree, \n",
        "+ density, \n",
        "+ average clustering coefficient, \n",
        "+ average number of triangles, and \n",
        "+ average path length."
      ],
      "metadata": {
        "id": "CCA2JyPshjCL"
      }
    },
    {
      "cell_type": "code",
      "source": [
        "def get_topology_values(G):\n",
        "  # input:\n",
        "  # G: Networkx Graph\n",
        "  # out:\n",
        "  # dict (key: metric name, value: metric value)\n",
        "\n",
        "  d_topology_vals = {\n",
        "      \"network_size\" : G.number_of_nodes(),\n",
        "      \"number_of_links\" : G.number_of_edges(),\n",
        "      \"avg_degree\" : np.mean(list(dict(G.degree()).values())),\n",
        "      \"density\" : nx.density(G),\n",
        "      \"accumulated_degeree\" : np.sum(list(dict(G.degree()).values())),\n",
        "      \"avg_clustering_coef\" : nx.average_clustering(G),\n",
        "      \"avg_triangles\" : np.mean(list(nx.triangles(G).values())),\n",
        "      \"avg_path_length\" : nx.average_shortest_path_length(G),\n",
        "  }\n",
        "\n",
        "  return d_topology_vals"
      ],
      "metadata": {
        "id": "5Xio9a3FKtdL"
      },
      "execution_count": null,
      "outputs": []
    },
    {
      "cell_type": "code",
      "source": [],
      "metadata": {
        "id": "iehX7D5WLHRd"
      },
      "execution_count": null,
      "outputs": []
    },
    {
      "cell_type": "markdown",
      "source": [
        "#### 1.3.2.7. Centrality analysis of the largest connected component"
      ],
      "metadata": {
        "id": "PKlCSKVsNF2M"
      }
    },
    {
      "cell_type": "markdown",
      "source": [
        "In this case, let's analyse the centrality of each node from only the largest connected component. We will use four centrality measures:\n",
        "1. Degree centrality (`nx.degree_centrality()`)\n",
        "2. Betweenness centrality (`nx.betweenness_centrality()`)\n",
        "3. Closeness centrality (`nx.closeness_centrality()`)\n",
        "4. Eigen-vector centrality (`nx.eigenvector_centrality()`)"
      ],
      "metadata": {
        "id": "58nLs-odGJOT"
      }
    },
    {
      "cell_type": "markdown",
      "source": [
        "Use the attribute `node_color` of  `nx.draw_networkx_nodes` to color each node based on its centrality value!"
      ],
      "metadata": {
        "id": "GFRqhORkjGBQ"
      }
    },
    {
      "cell_type": "code",
      "source": [],
      "metadata": {
        "id": "N_elBc3WF-d8"
      },
      "execution_count": null,
      "outputs": []
    },
    {
      "cell_type": "markdown",
      "source": [
        "#### 1.3.2.8. Comparison of centrality distributions"
      ],
      "metadata": {
        "id": "Ydk_cHKpjcNS"
      }
    },
    {
      "cell_type": "code",
      "source": [],
      "metadata": {
        "id": "Mq4KrU4HPvkM"
      },
      "execution_count": null,
      "outputs": []
    },
    {
      "cell_type": "markdown",
      "source": [
        "#### 1.3.2.9. Questions\n",
        "\n",
        "1. Which are the set of artists that connect the largest amount of users?\n",
        "2. Which are the sets of artitsts that connect the top 10 artists more importants for connecting users? How to interpret each centrality measure in this case?"
      ],
      "metadata": {
        "id": "12E8jNDvRCZ-"
      }
    },
    {
      "cell_type": "code",
      "source": [],
      "metadata": {
        "id": "_zqjWDc-SA3G"
      },
      "execution_count": null,
      "outputs": []
    },
    {
      "cell_type": "markdown",
      "source": [
        "Depending in the centrality measure we are using we will get different results. Here, the \"importance\" of each artists have changed across metrics. Therefore, we need to consider the definition of each measure depending on what we want to measure from the network. Thus, this will change depending on the problem domain."
      ],
      "metadata": {
        "id": "PXFBEIx5SrPs"
      }
    },
    {
      "cell_type": "code",
      "source": [
        "from functools import reduce"
      ],
      "metadata": {
        "id": "kZdGdBCFT9uF"
      },
      "execution_count": null,
      "outputs": []
    },
    {
      "cell_type": "code",
      "source": [
        "reduce(np.intersect1d, (top_artists_degree, top_artists_betweenness, top_artists_closeness, top_artists_eigenvector))"
      ],
      "metadata": {
        "id": "v-SpOLEnTmA9"
      },
      "execution_count": null,
      "outputs": []
    },
    {
      "cell_type": "markdown",
      "source": [
        "**Note:** Remember, when you scale your data, you are changing the *range* of these values. When you normalize your data, you are changing the *shape of the distribution* of your data.\n"
      ],
      "metadata": {
        "id": "yusC_-KLQAmN"
      }
    },
    {
      "cell_type": "markdown",
      "source": [
        "Good! Now that we have some information about the structure of our network, let's study how this evolves across time (i.e. months)."
      ],
      "metadata": {
        "id": "EeCFQzwZiDka"
      }
    },
    {
      "cell_type": "markdown",
      "source": [
        "----"
      ],
      "metadata": {
        "id": "420gtJmOifKy"
      }
    },
    {
      "cell_type": "markdown",
      "source": [
        "### 1.3.3. Part 3: Complex network analysis across months\n",
        "\t"
      ],
      "metadata": {
        "id": "-d-DHv4sXS_I"
      }
    },
    {
      "cell_type": "markdown",
      "source": [
        "In this section, we want to answer the following questions:\n",
        "+ Study network of artists interconnected by LastFM user's preferences per month. Is the network of artist constantly changing? What are the features (i.e., topology measures) of the each network? Do these result change if we use weighted graphs instead of binary ones?\n",
        "+ Which is the most central artist per month? Is it the same one? Is it the same if we use another centrality measure?\n",
        "+ Which are the most top 3 similar artists of most central one?"
      ],
      "metadata": {
        "id": "-6Er_LXrXVHh"
      }
    },
    {
      "cell_type": "markdown",
      "source": [
        "Are these artists connected always in the same way? How their relation change across months? Using our LastFM dataset, we can check that by creating networks per month. We can look at the different topology measures and see whether they remain the same or fluctuate."
      ],
      "metadata": {
        "id": "_xRzU3YvI61C"
      }
    },
    {
      "cell_type": "markdown",
      "source": [
        "#### 1.3.3.1. Timestamp selection and filtering"
      ],
      "metadata": {
        "id": "87uO6NQrp0Bc"
      }
    },
    {
      "cell_type": "code",
      "source": [],
      "metadata": {
        "id": "N4Q9TvZNhZY2"
      },
      "execution_count": null,
      "outputs": []
    },
    {
      "cell_type": "markdown",
      "source": [
        "For computational costs, let's consider only the first TOP-50 artists for our analyses (i.e., `max_V = 50`).\n"
      ],
      "metadata": {
        "id": "4QhBJcUgYLMH"
      }
    },
    {
      "cell_type": "code",
      "source": [],
      "metadata": {
        "id": "s9gMRCfYYhNt"
      },
      "execution_count": null,
      "outputs": []
    },
    {
      "cell_type": "markdown",
      "source": [
        "#### 1.3.3.2 Definition of matrix $V \\times U \\times T$"
      ],
      "metadata": {
        "id": "b85wdejAkhRb"
      }
    },
    {
      "cell_type": "code",
      "source": [],
      "metadata": {
        "id": "2NXRbqNxfvfd"
      },
      "execution_count": null,
      "outputs": []
    },
    {
      "cell_type": "markdown",
      "source": [
        "#### 1.3.3.3. Weighted graph's adjacency matrix per month"
      ],
      "metadata": {
        "id": "OfWmJHYslWqi"
      }
    },
    {
      "cell_type": "code",
      "source": [],
      "metadata": {
        "id": "WMCP_6R2fHMK"
      },
      "execution_count": null,
      "outputs": []
    },
    {
      "cell_type": "markdown",
      "source": [
        "#### 1.3.3.4. Graph visualizations"
      ],
      "metadata": {
        "id": "mXzFzFyYljRr"
      }
    },
    {
      "cell_type": "markdown",
      "source": [
        "Visualization pf graphs and adjacency matrices across time"
      ],
      "metadata": {
        "id": "quZ5ix6nml46"
      }
    },
    {
      "cell_type": "code",
      "source": [],
      "metadata": {
        "id": "4NqE3QA7lOcm"
      },
      "execution_count": null,
      "outputs": []
    },
    {
      "cell_type": "markdown",
      "source": [
        "#### 1.3.3.5. Analysis across time: Changes in networks' topology "
      ],
      "metadata": {
        "id": "CDFfK8HylxOq"
      }
    },
    {
      "cell_type": "code",
      "source": [],
      "metadata": {
        "id": "BOPvsH2uM3vN"
      },
      "execution_count": null,
      "outputs": []
    },
    {
      "cell_type": "markdown",
      "source": [
        "#### 1.3.3.6. Visualization of changes of networks structure"
      ],
      "metadata": {
        "id": "X7USWP0bmGUj"
      }
    },
    {
      "cell_type": "code",
      "source": [],
      "metadata": {
        "id": "noIfkpJwc-q7"
      },
      "execution_count": null,
      "outputs": []
    },
    {
      "cell_type": "markdown",
      "source": [
        "#### .3.3.7. Centrality analysis across time"
      ],
      "metadata": {
        "id": "Doq7Zq0XpzcP"
      }
    },
    {
      "cell_type": "code",
      "source": [],
      "metadata": {
        "id": "f2sxS0JVqFsB"
      },
      "execution_count": null,
      "outputs": []
    },
    {
      "cell_type": "markdown",
      "source": [
        "Top influencial bands for users from LastFM comunnity:"
      ],
      "metadata": {
        "id": "w5J8b4J1jxIS"
      }
    },
    {
      "cell_type": "code",
      "source": [],
      "metadata": {
        "id": "TAI9kfSofT8m"
      },
      "execution_count": null,
      "outputs": []
    },
    {
      "cell_type": "markdown",
      "source": [
        "---"
      ],
      "metadata": {
        "id": "deytHz7Lm2iC"
      }
    },
    {
      "cell_type": "markdown",
      "source": [
        "### Que considerar?"
      ],
      "metadata": {
        "id": "OO8KIcMsOcmv"
      }
    },
    {
      "cell_type": "markdown",
      "source": [
        "1. Los usuarios se mantienen a traves del tiempo? Si no: filtrar.\n",
        "2. la cantidad de registros es igual en el tiempo? si no: normalizar."
      ],
      "metadata": {
        "id": "yNz22WNpOd3L"
      }
    },
    {
      "cell_type": "markdown",
      "source": [
        "---"
      ],
      "metadata": {
        "id": "Mnz9iTaRIwvH"
      }
    },
    {
      "cell_type": "markdown",
      "source": [
        "# References"
      ],
      "metadata": {
        "id": "zgdA1Fmn-72l"
      }
    },
    {
      "cell_type": "markdown",
      "source": [
        "[1] Benson, A. R., Kumar, R., & Tomkins, A. (2018, February). A discrete choice model for subset selection. In Proceedings of the eleventh ACM international conference on web search and data mining (pp. 37-45).\n",
        "\n",
        "[2] Celma, O. (2010). Music recommendation and discovery: The long tail, long fail, and long play in the digital music space. Springer Science & Business Media.\n",
        "\n",
        "[3] Lamere, P. The LastFM ArtistTags2007 Data set, 2008. URL http://musicmachinery.com/2010/11/10/lastfm-artisttags2007."
      ],
      "metadata": {
        "id": "fPjeoxb89ey8"
      }
    }
  ]
}