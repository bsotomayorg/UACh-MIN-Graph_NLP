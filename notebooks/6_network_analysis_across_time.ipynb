{
  "nbformat": 4,
  "nbformat_minor": 0,
  "metadata": {
    "colab": {
      "provenance": [],
      "toc_visible": true
    },
    "kernelspec": {
      "name": "python3",
      "display_name": "Python 3"
    },
    "language_info": {
      "name": "python"
    }
  },
  "cells": [
    {
      "cell_type": "markdown",
      "source": [
        "## 6. Longitudinal analysis; Evolution of complex networks."
      ],
      "metadata": {
        "id": "2fbrBMWSlD4L"
      }
    },
    {
      "cell_type": "code",
      "source": [
        "import networkx as nx\n",
        "import numpy as np\n",
        "import matplotlib.pyplot as plt\n",
        "import pandas as pd\n",
        "from scipy import stats\n",
        "\n",
        "pd.set_option('display.max_colwidth', 200)\n",
        "%matplotlib inline"
      ],
      "metadata": {
        "id": "5fUEI_KvlQXJ"
      },
      "execution_count": null,
      "outputs": []
    },
    {
      "cell_type": "markdown",
      "source": [
        "## 6.1. Introduction"
      ],
      "metadata": {
        "id": "6i8J_1Wv7p2X"
      }
    },
    {
      "cell_type": "markdown",
      "source": [
        "When we consider a temporal variable (for example, we want to know how are the relationships between different entities in our study over time) we can perform multiple types of analysis. \n",
        "\n",
        "In this course, we are going to see how we can study the evolution of networks in terms of (possible) changes in their topology and for the centrality of the nodes of our network. \n",
        "\n",
        "How much certain properties of the network vary will depend, as you can imagine, on the type of problem or application in which we are using this type of modeling."
      ],
      "metadata": {
        "id": "1KJfJcDj7r_t"
      }
    },
    {
      "cell_type": "markdown",
      "source": [
        "## 6.2. Graphs across time!"
      ],
      "metadata": {
        "id": "32a3J7zc78Sk"
      }
    },
    {
      "cell_type": "markdown",
      "source": [
        "Here, I propose to consider a network evolving over time as a sequence of ordered networks, each corresponding to a specific point in time. This perspective treats the network as a function of the time variable, allowing us to capture its temporal dynamics and changes."
      ],
      "metadata": {
        "id": "qTwsK5AN7_p9"
      }
    },
    {
      "cell_type": "markdown",
      "source": [
        "Let $G_t$ an ordered set of binary graphs across time $t$. This is:\n",
        "\n",
        "$$\n",
        "G_t(V_t, E_t),\n",
        "$$\n",
        "for every period of time $t \\in T$.\n",
        "\n",
        "$V_t$ correspond to a set of nodes considered in an specific time $t$, and $E_i$ is the set of edges or connection between two nodes $v_{t, i}$ and $v_{t, j}$ in $t$. \n",
        "\n",
        "For most of the cases, we might prefer to keep track of every node of the network across time. This is, we can define $G_t$ as\n",
        "\n",
        "$$\n",
        "G_t(V, E_t).\n",
        "$$\n",
        "\n",
        "In this case, we will be able to study how the *conections* evolves across time. In this session, we will use the last definition.\n",
        "\n",
        "**Note:** It is also possible to define a weighted graph $G_t(V, E_t, W_t)$ across time, where $W_t$ corresponds to the weighted connections between nodes in $V$. "
      ],
      "metadata": {
        "id": "CZ96e_pG8C07"
      }
    },
    {
      "cell_type": "markdown",
      "source": [
        "In the next sub-chapter, we will learn how to perform this type of analysis via a simple example and by using NetworkX lib."
      ],
      "metadata": {
        "id": "_MCC2g7095Ip"
      }
    },
    {
      "cell_type": "markdown",
      "source": [
        "## 6.3. Application in NetworkX"
      ],
      "metadata": {
        "id": "P4BCZLbn7n25"
      }
    },
    {
      "cell_type": "markdown",
      "source": [
        "### 6.3.1. Dependencies & data loading"
      ],
      "metadata": {
        "id": "un0VwIFflYX2"
      }
    },
    {
      "cell_type": "code",
      "source": [
        "def compute_features_from_graph(G):\n",
        "  d_features = {\n",
        "    'mean_degree' : np.mean(list(dict(G.degree()).values())),\n",
        "    'density' : nx.density(G),\n",
        "    'num_edges' : G.number_of_edges(),\n",
        "    'num_connected_components' : nx.number_connected_components(G),\n",
        "    'mean_clustering_coef' : nx.average_clustering(G),\n",
        "    'num_triangles' : np.mean(list(dict(nx.triangles(G)).values()))\n",
        "  }\n",
        "  return d_features"
      ],
      "metadata": {
        "id": "1eIjkJi-leeA"
      },
      "execution_count": null,
      "outputs": []
    },
    {
      "cell_type": "code",
      "source": [
        "def example_create_tensor():\n",
        "  N = 10 # num nodos\n",
        "\n",
        "  l_edges = list([\n",
        "    [(0,1),(1,2),(0,2),(0,3),(2,3),(3,4),(5,6),(2,6),(6,9),(7,8),(7,9),(8,9)],\n",
        "    [(0,1),(1,2),(0,2),(0,3),(2,3),(3,4),(5,6),(2,6),(6,9),(7,8),(7,9),(0,4)],\n",
        "    [(0,1),(1,2),(0,2),(0,3),(2,3),(3,4),(5,6),(2,6),(6,9),(7,8),(1,9),(5,9)],\n",
        "    [(0,1),(1,2),(0,2),(0,3),(3,4),(5,6),(2,6),(6,9),(7,8),(1,9),(5,9)],\n",
        "    [(0,1),(1,2),(3,4),(5,6),(2,6),(6,9),(7,8),(1,9),(0,2)],\n",
        "    [(0,1),(3,4),(3,6),(5,6),(2,6),(6,9),(7,8),(1,9),(0,2)],\n",
        "    ])\n",
        "  \n",
        "  T = len(l_edges) # num steps\n",
        "\n",
        "  A_T = np.zeros(shape=(T,N,N), dtype=np.int8)\n",
        "  for i in range(len(l_edges)):\n",
        "    for edge in l_edges[i]:\n",
        "      A_T[i, edge[0], edge[1]] = 1;\n",
        "      A_T[i, edge[1], edge[0]] = 1;\n",
        "\n",
        "  return A_T"
      ],
      "metadata": {
        "id": "3oS1AUcjlf6a"
      },
      "execution_count": null,
      "outputs": []
    },
    {
      "cell_type": "markdown",
      "source": [
        "### 6.3.2. Simulation of simple network as a binary graph across time"
      ],
      "metadata": {
        "id": "D1gxm_xQppps"
      }
    },
    {
      "cell_type": "code",
      "source": [
        "A_T = example_create_tensor()"
      ],
      "metadata": {
        "id": "tXkoreG3F1K2"
      },
      "execution_count": null,
      "outputs": []
    },
    {
      "cell_type": "code",
      "source": [
        "T = A_T.shape[0]\n",
        "N = A_T.shape[1]\n",
        "print(\"# steps:\", T)\n",
        "print(\"# nodes:\", N)"
      ],
      "metadata": {
        "id": "qWwOt9g-G05_"
      },
      "execution_count": null,
      "outputs": []
    },
    {
      "cell_type": "markdown",
      "source": [
        "Creating list of graphs `l_G` from adjacency matrices"
      ],
      "metadata": {
        "id": "34NlAqcpmYOC"
      }
    },
    {
      "cell_type": "code",
      "source": [
        "l_G = [nx.Graph(A_T[i,:,:]) for i in range(T)]"
      ],
      "metadata": {
        "id": "MhJyqtaaKEfR"
      },
      "execution_count": null,
      "outputs": []
    },
    {
      "cell_type": "markdown",
      "source": [
        "Visualization pf graphs and dissimilarity matrices across time"
      ],
      "metadata": {
        "id": "quZ5ix6nml46"
      }
    },
    {
      "cell_type": "code",
      "source": [
        "pos = nx.spring_layout(l_G[0], iterations=100, seed=0)"
      ],
      "metadata": {
        "id": "k-61Ya3NKAF9"
      },
      "execution_count": null,
      "outputs": []
    },
    {
      "cell_type": "code",
      "source": [
        "fig, axs = plt.subplots(figsize=(3*T,6), facecolor=\"w\", nrows=2, ncols=T)\n",
        "for i in range(T):\n",
        "  # graph visualization\n",
        "  nx.draw_networkx_nodes(\n",
        "      l_G[i], pos, node_color='white', linewidths=2, \n",
        "      edgecolors='k', ax=axs[0][i], node_size=100)\n",
        "  nx.draw_networkx_edges(l_G[i], pos, width=2, ax=axs[0][i])\n",
        "  axs[0][i].spines[['left', 'right', 'top', 'bottom']].set_visible(False)\n",
        "  axs[0][i].set_title(\"$G_{t=%i}$\" % (i+1), fontsize=18)\n",
        "  \n",
        "  # adjacency matrix\n",
        "  axs[1][i].imshow(A_T[i,:,:], cmap=\"Greys_r\")\n",
        "  axs[1][i].imshow(A_T[i,:,:], cmap=\"Greys_r\")\n",
        "  axs[1][i].set_xticks(range(N)); axs[1][i].set_yticks(range(N));"
      ],
      "metadata": {
        "id": "rGBuY4qoGPmr"
      },
      "execution_count": null,
      "outputs": []
    },
    {
      "cell_type": "markdown",
      "source": [
        "### 6.3.3. Analysis of topology metrics across time"
      ],
      "metadata": {
        "id": "Pn2-cPDSpP0e"
      }
    },
    {
      "cell_type": "code",
      "source": [
        "l_features = [compute_features_from_graph(l_G[i]) for i in range(T)]"
      ],
      "metadata": {
        "id": "BOPvsH2uM3vN"
      },
      "execution_count": null,
      "outputs": []
    },
    {
      "cell_type": "code",
      "source": [
        "df_features = pd.DataFrame(l_features)\n",
        "df_features"
      ],
      "metadata": {
        "id": "etR6K1MzNGiA"
      },
      "execution_count": null,
      "outputs": []
    },
    {
      "cell_type": "code",
      "source": [
        "n_features = len(df_features.columns)"
      ],
      "metadata": {
        "id": "yYf1VTGQNj4k"
      },
      "execution_count": null,
      "outputs": []
    },
    {
      "cell_type": "code",
      "source": [
        "l_notation_metric = {\n",
        "    'mean_degree' : r'$deg$',\n",
        "    'density' : r'$d$',\n",
        "    'num_edges' : r'$E$',\n",
        "    'num_connected_components' : r'$c$',\n",
        "    'mean_clustering_coef' : r'$\\langle C \\rangle$',\n",
        "    'num_triangles' : r'$\\# \\Delta$'\n",
        "}"
      ],
      "metadata": {
        "id": "KnY1mt9oPY75"
      },
      "execution_count": null,
      "outputs": []
    },
    {
      "cell_type": "markdown",
      "source": [
        "### 6.3.4. Visualization of traces across time"
      ],
      "metadata": {
        "id": "1Qa-if8jpc7D"
      }
    },
    {
      "cell_type": "code",
      "source": [
        "fig, axs = plt.subplots(\n",
        "    facecolor=\"w\", figsize=(4,n_features*1), \n",
        "    nrows=n_features, ncols=1, constrained_layout=True,\n",
        "    sharex=True\n",
        "    )\n",
        "for i in range(n_features):\n",
        "  axs[i].plot(\n",
        "      df_features[df_features.columns.values[i]], \n",
        "      marker=\"o\", color=\"k\", fillstyle='none', lw=1)\n",
        "  metric_name = df_features.columns.values[i]\n",
        "  axs[i].set_ylabel(\"%s$(G_i)$\" % l_notation_metric[metric_name], fontsize=12)\n",
        "  axs[i].spines[['right', 'top']].set_visible(False)\n",
        "  axs[i].set_xticks(range(1,n_features+1)); #axs[i].set_yticks([])\n",
        "  axs[i].set_xlim([0.95, len(df_features.index)-0.95])\n",
        "  axs[i].yaxis.set_label_coords(-0.15,0.5)\n",
        "\n",
        "axs[-1].set_xlabel(\"Step $i$\")"
      ],
      "metadata": {
        "id": "YizZ-70hNOk0"
      },
      "execution_count": null,
      "outputs": []
    },
    {
      "cell_type": "markdown",
      "source": [
        "**Note:** For an increasing $T$, we can use these features to predict future states of the network! \n",
        "\n",
        "Do you have other ideas about the use these traces?"
      ],
      "metadata": {
        "id": "7spZ01GDVhWR"
      }
    },
    {
      "cell_type": "markdown",
      "source": [
        "---"
      ],
      "metadata": {
        "id": "CcJ7IERwpMH9"
      }
    }
  ]
}