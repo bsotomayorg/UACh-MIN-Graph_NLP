{
  "nbformat": 4,
  "nbformat_minor": 0,
  "metadata": {
    "colab": {
      "provenance": [],
      "toc_visible": true
    },
    "kernelspec": {
      "name": "python3",
      "display_name": "Python 3"
    },
    "language_info": {
      "name": "python"
    }
  },
  "cells": [
    {
      "cell_type": "markdown",
      "source": [
        "# 3. Graph extentions"
      ],
      "metadata": {
        "id": "_CZjNP7nuqVS"
      }
    },
    {
      "cell_type": "markdown",
      "source": [
        "Import Dependencies & Load dataset"
      ],
      "metadata": {
        "id": "un0VwIFflYX2"
      }
    },
    {
      "cell_type": "code",
      "source": [
        "import networkx as nx\n",
        "import numpy as np\n",
        "import matplotlib.pyplot as plt\n",
        "import pandas as pd\n",
        "from scipy import stats\n",
        "\n",
        "pd.set_option('display.max_colwidth', 200)\n",
        "%matplotlib inline"
      ],
      "metadata": {
        "id": "5fUEI_KvlQXJ"
      },
      "execution_count": null,
      "outputs": []
    },
    {
      "cell_type": "markdown",
      "source": [
        "Grafos dirigidos; bases de grafos dirigidos; conectividad en grafos dirigidos.\n",
        "Grafos ponderados."
      ],
      "metadata": {
        "id": "oNU7qIhPuop9"
      }
    },
    {
      "cell_type": "markdown",
      "source": [
        "## 3.1. Directed graphs (Digraph)"
      ],
      "metadata": {
        "id": "tLbupGDouvcc"
      }
    },
    {
      "cell_type": "markdown",
      "source": [
        "### 3.1.1. Definition"
      ],
      "metadata": {
        "id": "k3U6zKNqtmHO"
      }
    },
    {
      "cell_type": "markdown",
      "source": [
        "**Definición**: Un grafo dirigido o digrafo $D$ consiste en una collección de vertices $V$, y una collección de arcos $A$, denotado como $D = (V,A)$. Cada arco $a = \\langle u, v \\rangle$ conecta el vértice $u \\in V$ a otro vértice $v$ (no necesariamente distinto). El vértice $u$ se denomina *origen* de $a$ y $v$ se denomina *destino*."
      ],
      "metadata": {
        "id": "2WUPHx7qHpA1"
      }
    },
    {
      "cell_type": "markdown",
      "source": [
        "**Example:** \n",
        "\n",
        "A DiGraph $D$ and its complement $\\overline{D}$."
      ],
      "metadata": {
        "id": "MKKNG4vzIrB3"
      }
    },
    {
      "cell_type": "code",
      "source": [
        "node_labels = [0,1,2,3,4]\n",
        "edge_labels = [(0, 1), (0,2), (1,2), (2,3), (4,3), (3,4), (1,3), (4,0)]\n",
        "\n",
        "fig, axs = plt.subplots(figsize=(5,3), facecolor='w', nrows=1, ncols=2, constrained_layout=True)\n",
        "\n",
        "D = nx.DiGraph()\n",
        "D.add_nodes_from(node_labels)\n",
        "D.add_edges_from(edge_labels)\n",
        "pos = nx.layout.circular_layout(D)\n",
        "nx.draw_networkx_nodes(D, pos, node_color=\"#cf52a5\", linewidths=1, ax=axs[0], node_size=200)\n",
        "nx.draw_networkx_edges(D, pos, width=1.5, ax=axs[0])\n",
        "axs[0].axis('off')\n",
        "\n",
        "D_complement = nx.complement(D)\n",
        "pos = nx.layout.circular_layout(D_complement)\n",
        "nx.draw_networkx_nodes(D_complement, pos, node_color=\"#cf52a5\", linewidths=1, ax=axs[1], node_size=200)\n",
        "nx.draw_networkx_edges(D_complement, pos, width=1.5, ax=axs[1]) #52a5cf\n",
        "axs[1].axis('off')\n",
        "\n",
        "axs[0].set_title(r\"$D$\", fontsize=18)\n",
        "axs[1].set_title(r\"$\\overline{D}$\", fontsize=18)\n"
      ],
      "metadata": {
        "colab": {
          "base_uri": "https://localhost:8080/",
          "height": 346
        },
        "id": "RTu3Ci4QIk6H",
        "outputId": "20c0e960-e290-4c1c-d49c-bead2e2bd4cb"
      },
      "execution_count": null,
      "outputs": [
        {
          "output_type": "execute_result",
          "data": {
            "text/plain": [
              "Text(0.5, 1.0, '$\\\\overline{D}$')"
            ]
          },
          "metadata": {},
          "execution_count": 2
        },
        {
          "output_type": "display_data",
          "data": {
            "text/plain": [
              "<Figure size 500x300 with 2 Axes>"
            ],
            "image/png": "[encoded data removed]"
          },
          "metadata": {}
        }
      ]
    },
    {
      "cell_type": "markdown",
      "source": [
        "### 3.1.2. Connectivity in DiGraphs"
      ],
      "metadata": {
        "id": "d9EzV8sdtotg"
      }
    },
    {
      "cell_type": "markdown",
      "source": [
        "**Definición**: Considere un digrafo $D$. Un camino-($v_0, v_k$) dirigido en $D$ es una sequencia alternada $[v_0, a_0, v_1, a_1, \\dots, v_{k-1}, a_{k-1}, v_k]$ de vértices y arcos de $D$ con $\\langle \\overrightarrow{v_i, v_{i+1}} \\rangle$. Un *sendero dirigido* es una caminata dirigida en la que todos los arcos son distintos; un *camino dirigido* es un camino dirigido en el que todos los vértices también son distintos."
      ],
      "metadata": {
        "id": "Q3FG815uLSKO"
      }
    },
    {
      "cell_type": "markdown",
      "source": [
        "## 3.2. Weighted graphs"
      ],
      "metadata": {
        "id": "VVKHLda4uy-M"
      }
    },
    {
      "cell_type": "markdown",
      "source": [
        "**Definición**: Un grafo ponderado $G$ es un grafo donde cada  enlace $e$ tiene asociado un número real $w(e)$ llamado *peso (weight)*. Para un subgrafo $H \\subseteq G$, el peso de $H$ es simplemente la suma de pesos de sus enlaces: $w(H) = \\sum_{e \\in E(H)} w(e)$."
      ],
      "metadata": {
        "id": "SkK7D6t8M1PY"
      }
    },
    {
      "cell_type": "markdown",
      "source": [
        "**Example:**"
      ],
      "metadata": {
        "id": "159Tm2wZP2DU"
      }
    },
    {
      "cell_type": "code",
      "source": [
        "node_labels = [0,1,2,3,4]\n",
        "edge_labels = [(0, 1), (0,2), (1,2), (2,3), (3,4), (1,3)]\n",
        "weight = [1, 1, 2, 2, 4, 2]\n",
        "weighted_edges = [(edge_labels[i][0], edge_labels[i][1], weight[i]) for i in range(len(edge_labels))]"
      ],
      "metadata": {
        "id": "Luat2m-qP8cB"
      },
      "execution_count": null,
      "outputs": []
    },
    {
      "cell_type": "code",
      "source": [
        "W = nx.Graph()\n",
        "W.add_nodes_from(node_labels)\n",
        "W.add_weighted_edges_from(weighted_edges, weight='weight')"
      ],
      "metadata": {
        "id": "JXjyI5kZP9wB"
      },
      "execution_count": null,
      "outputs": []
    },
    {
      "cell_type": "code",
      "source": [
        "fig, axs = plt.subplots(figsize=(2.5,3), facecolor='w', nrows=1, ncols=1, constrained_layout=True)\n",
        "pos = nx.layout.circular_layout(W)\n",
        "nx.draw_networkx_nodes(W, pos, node_color=\"#cf52a5\", linewidths=1, ax=axs, node_size=200)\n",
        "nx.draw_networkx_edges(W, pos, width=weight, ax=axs)\n",
        "axs.axis('off')\n",
        "axs.set_title(r\"$W$\", fontsize=18)"
      ],
      "metadata": {
        "colab": {
          "base_uri": "https://localhost:8080/",
          "height": 346
        },
        "id": "TKvIPJ2mqlfS",
        "outputId": "0fc6ee8d-829b-409e-8dba-e0d2ad006818"
      },
      "execution_count": null,
      "outputs": [
        {
          "output_type": "execute_result",
          "data": {
            "text/plain": [
              "Text(0.5, 1.0, '$W$')"
            ]
          },
          "metadata": {},
          "execution_count": 5
        },
        {
          "output_type": "display_data",
          "data": {
            "text/plain": [
              "<Figure size 250x300 with 1 Axes>"
            ],
            "image/png": "[encoded data removed]"
          },
          "metadata": {}
        }
      ]
    },
    {
      "cell_type": "code",
      "source": [
        "W.edges.data(\"weight\")"
      ],
      "metadata": {
        "colab": {
          "base_uri": "https://localhost:8080/"
        },
        "id": "SPlHdfCnsiRs",
        "outputId": "eda6bf11-1772-4b2b-b27f-f5cf19865f56"
      },
      "execution_count": null,
      "outputs": [
        {
          "output_type": "execute_result",
          "data": {
            "text/plain": [
              "EdgeDataView([(0, 1, 1), (0, 2, 1), (1, 2, 2), (1, 3, 2), (2, 3, 2), (3, 4, 4)])"
            ]
          },
          "metadata": {},
          "execution_count": 6
        }
      ]
    },
    {
      "cell_type": "code",
      "source": [
        "WA = nx.adjacency_matrix(W, weight='weight').todense()\n",
        "WA"
      ],
      "metadata": {
        "colab": {
          "base_uri": "https://localhost:8080/"
        },
        "id": "tScSSaMQpmCN",
        "outputId": "8ff1bcb4-0276-4c72-af53-efa5d3f829dd"
      },
      "execution_count": null,
      "outputs": [
        {
          "output_type": "execute_result",
          "data": {
            "text/plain": [
              "array([[0, 1, 1, 0, 0],\n",
              "       [1, 0, 2, 2, 0],\n",
              "       [1, 2, 0, 2, 0],\n",
              "       [0, 2, 2, 0, 4],\n",
              "       [0, 0, 0, 4, 0]])"
            ]
          },
          "metadata": {},
          "execution_count": 7
        }
      ]
    },
    {
      "cell_type": "code",
      "source": [
        "fig, axs = plt.subplots(figsize=(4,3), facecolor='w', nrows=1, ncols=1)\n",
        "cmap_ = plt.cm.get_cmap('Greys_r')#, 5)\n",
        "#labels = np.arange(0, 4+1, 1)\n",
        "im = axs.imshow(WA, cmap=cmap_)#, vmin=0, vmax=4)\n",
        "cbar = plt.colorbar(im, ax=axs, ticks=[0,1,2,3,4])\n",
        "cbar.set_label(\"weights\")\n",
        "axs.set_xlabel(\"Nodes\"); axs.set_ylabel(\"Nodes\");\n",
        "#loc = labels - 0.5\n",
        "#cbar.set_ticks(loc)\n",
        "#cbar.set_ticklabels(labels)"
      ],
      "metadata": {
        "id": "Buu8QKSIrk2I",
        "colab": {
          "base_uri": "https://localhost:8080/",
          "height": 372
        },
        "outputId": "1e0b0829-02fe-44c8-e98b-a2706031eddc"
      },
      "execution_count": null,
      "outputs": [
        {
          "output_type": "stream",
          "name": "stderr",
          "text": [
            "<ipython-input-20-d4976c0f0b21>:2: MatplotlibDeprecationWarning: The get_cmap function was deprecated in Matplotlib 3.7 and will be removed two minor releases later. Use ``matplotlib.colormaps[name]`` or ``matplotlib.colormaps.get_cmap(obj)`` instead.\n",
            "  cmap_ = plt.cm.get_cmap('Greys_r')#, 5)\n"
          ]
        },
        {
          "output_type": "display_data",
          "data": {
            "text/plain": [
              "<Figure size 400x300 with 2 Axes>"
            ],
            "image/png": "[encoded data removed]"
          },
          "metadata": {}
        }
      ]
    },
    {
      "cell_type": "markdown",
      "source": [
        "## 3.3. Weighted digraphs"
      ],
      "metadata": {
        "id": "9EP6sd1su6_z"
      }
    },
    {
      "cell_type": "markdown",
      "source": [
        "**Definición**: Un grafo ponderado dirigido $D$ consiste en una collección de vertices $V$, una collección de enlaces $E$ y pesos $W$, denotado como $D = (V,E,W)$. Cada enalce $e = \\langle u, v \\rangle$ conecta el vértice $u \\in V$ a otro vértice $v$ (no necesariamente distinto). El vértice $u$ se denomina *origen* de $e$ y $v$ se denomina *destino*."
      ],
      "metadata": {
        "id": "whlpHzLatEH5"
      }
    },
    {
      "cell_type": "markdown",
      "source": [
        "**Example**"
      ],
      "metadata": {
        "id": "ljsapIP2QwpO"
      }
    },
    {
      "cell_type": "code",
      "source": [
        "node_labels = [0,1,2,3,4]\n",
        "edge_labels = [(0, 1), (0,2), (1,2), (2,3), (4,3), (3,4), (1,3), (4,0)]\n",
        "weight = [1, 1, 2, 2, 4, 2, 1, 2]\n",
        "weighted_edges = [(edge_labels[i][0], edge_labels[i][1], weight[i]) for i in range(len(edge_labels))]"
      ],
      "metadata": {
        "id": "_rJID9dtQ1m3"
      },
      "execution_count": null,
      "outputs": []
    },
    {
      "cell_type": "code",
      "source": [
        "WD = nx.DiGraph()\n",
        "WD.add_nodes_from(node_labels)\n",
        "WD.add_weighted_edges_from(weighted_edges, weight='weight')"
      ],
      "metadata": {
        "id": "sWv6253xQ1m4"
      },
      "execution_count": null,
      "outputs": []
    },
    {
      "cell_type": "code",
      "source": [
        "fig, axs = plt.subplots(figsize=(2.5,3), facecolor='w', nrows=1, ncols=1, constrained_layout=True)\n",
        "pos = nx.layout.circular_layout(WD)\n",
        "nx.draw_networkx_nodes(WD, pos, node_color=\"#cf52a5\", linewidths=1, ax=axs, node_size=200)\n",
        "nx.draw_networkx_edges(WD, pos, width=weight, ax=axs)\n",
        "axs.axis('off')\n",
        "axs.set_title(r\"$WD$\", fontsize=18)"
      ],
      "metadata": {
        "colab": {
          "base_uri": "https://localhost:8080/",
          "height": 346
        },
        "outputId": "a93b2beb-0b38-4fc9-f911-43f7d759a073",
        "id": "kC_-sBjbQ1m5"
      },
      "execution_count": null,
      "outputs": [
        {
          "output_type": "execute_result",
          "data": {
            "text/plain": [
              "Text(0.5, 1.0, '$WD$')"
            ]
          },
          "metadata": {},
          "execution_count": 17
        },
        {
          "output_type": "display_data",
          "data": {
            "text/plain": [
              "<Figure size 250x300 with 1 Axes>"
            ],
            "image/png": "[encoded data removed]"
          },
          "metadata": {}
        }
      ]
    },
    {
      "cell_type": "markdown",
      "source": [
        "## 3.4. Bipartite graphs `[TODO]`"
      ],
      "metadata": {
        "id": "niRF6dRqMSU1"
      }
    },
    {
      "cell_type": "code",
      "source": [],
      "metadata": {
        "id": "X47gVpxVvl09"
      },
      "execution_count": null,
      "outputs": []
    },
    {
      "cell_type": "code",
      "source": [],
      "metadata": {
        "id": "Q1zFKf6FupBY"
      },
      "execution_count": null,
      "outputs": []
    },
    {
      "cell_type": "code",
      "execution_count": null,
      "metadata": {
        "id": "VMBiBCgJkLbC"
      },
      "outputs": [],
      "source": []
    },
    {
      "cell_type": "markdown",
      "source": [
        "## References `[TO ADD]`"
      ],
      "metadata": {
        "id": "MzPBMgne1UJn"
      }
    },
    {
      "cell_type": "markdown",
      "source": [
        "---"
      ],
      "metadata": {
        "id": "ljbFPu0j1WAF"
      }
    }
  ]
}