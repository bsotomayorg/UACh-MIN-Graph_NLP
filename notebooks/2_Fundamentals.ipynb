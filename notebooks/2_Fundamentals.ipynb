{
  "nbformat": 4,
  "nbformat_minor": 0,
  "metadata": {
    "colab": {
      "provenance": [],
      "toc_visible": true
    },
    "kernelspec": {
      "name": "python3",
      "display_name": "Python 3"
    },
    "language_info": {
      "name": "python"
    }
  },
  "cells": [
    {
      "cell_type": "markdown",
      "source": [
        "# 2. Fundamentals"
      ],
      "metadata": {
        "id": "vatNef4vvaj8"
      }
    },
    {
      "cell_type": "markdown",
      "source": [
        "Import modules:"
      ],
      "metadata": {
        "id": "RlTNXh8Iucl7"
      }
    },
    {
      "cell_type": "code",
      "source": [
        "import networkx as nx\n",
        "import numpy as np\n",
        "import matplotlib.pyplot as plt\n",
        "import pandas as pd\n",
        "from scipy import stats\n",
        "\n",
        "pd.set_option('display.max_colwidth', 200)\n",
        "%matplotlib inline"
      ],
      "metadata": {
        "id": "8vjdoqQdIEVn"
      },
      "execution_count": null,
      "outputs": []
    },
    {
      "cell_type": "markdown",
      "source": [
        "## 2.1. What is a Graph?"
      ],
      "metadata": {
        "id": "yKf0XN20veVs"
      }
    },
    {
      "cell_type": "markdown",
      "source": [
        "**Definition**: A graph $G$ consists of a collection $V$ of vertices and a collection of links $E$, for which we denote $G = (V, E)$. \n",
        "Each link $e$ is said to connect two vertices, which are called its endpoints. If $e$ connects $u, v \\in V$, we write $e = \\langle u, v \\rangle$. In this case, the vertices $u$ and $v$ are called adjacent."
      ],
      "metadata": {
        "id": "mxmo0k3uzPyJ"
      }
    },
    {
      "cell_type": "code",
      "source": [
        "G = nx.Graph()\n",
        "node_labels = [0,1,2,3,4]\n",
        "edge_labels = [(0, 1), (0,2), (1,2), (1,2), (2,3), (3,4), (1,3)] \n",
        "G.add_nodes_from(node_labels)\n",
        "G.add_edges_from(edge_labels)"
      ],
      "metadata": {
        "id": "1vX2DBu1IP3A"
      },
      "execution_count": null,
      "outputs": []
    },
    {
      "cell_type": "code",
      "source": [
        "pos = nx.layout.circular_layout(G)"
      ],
      "metadata": {
        "id": "cM6fT6kMrKaK"
      },
      "execution_count": null,
      "outputs": []
    },
    {
      "cell_type": "code",
      "source": [
        "fig, axs = plt.subplots(figsize=(4,4), facecolor='w', nrows=1, ncols=1, constrained_layout=True)\n",
        "nx.draw_networkx_nodes(G, pos, linewidths=1, ax=axs, node_size=400)\n",
        "nx.draw_networkx_edges(G, pos, width=1, ax=axs)\n",
        "axs.axis('off')"
      ],
      "metadata": {
        "id": "xfnrh8KEqiIT"
      },
      "execution_count": null,
      "outputs": []
    },
    {
      "cell_type": "markdown",
      "source": [
        "The complement of a graph $G$, denoted as $\\overline{G}$ is the graph obtained by removing all links and connecting exactly those vertices that are not adjacent in $G$.\n",
        "\n",
        "Of course, if we take a graph $G$ and its complement $\\overline{G}$ and join them, we obtain a complete graph.\n"
      ],
      "metadata": {
        "id": "9XQl7cJnf3fW"
      }
    },
    {
      "cell_type": "code",
      "source": [
        "Gc = nx.complement(G)"
      ],
      "metadata": {
        "id": "6gkmih8yq_aT"
      },
      "execution_count": null,
      "outputs": []
    },
    {
      "cell_type": "code",
      "source": [
        "fig, axs = plt.subplots(figsize=(4,4), facecolor='w', nrows=1, ncols=1, constrained_layout=True)\n",
        "nx.draw_networkx_nodes(Gc, pos, linewidths=1, ax=axs, node_size=400)\n",
        "nx.draw_networkx_edges(Gc, pos, width=1, ax=axs)\n",
        "axs.axis('off')"
      ],
      "metadata": {
        "id": "VQjuuahorCMz"
      },
      "execution_count": null,
      "outputs": []
    },
    {
      "cell_type": "markdown",
      "source": [
        "## 2.2. Subgraphs"
      ],
      "metadata": {
        "id": "z9Qqjb5yvo4x"
      }
    },
    {
      "cell_type": "markdown",
      "source": [
        "**Definition**: A subgraph $G$ is a graph $H$ with $V(H) \\subseteq V(G)$ and $E(H) \\subseteq E(G)$. \n",
        "\n",
        "The subgraph of $G = (V,E)$ induced by $V' \\subseteq V $, defined as $G[V']$, is a graph such that $(V', \\{(n_i,n_j) | (n_i, n_j) \\in E \\land (n_i, n_j) \\in V'\\})$."
      ],
      "metadata": {
        "id": "dmZpR3eDMeE4"
      }
    },
    {
      "cell_type": "code",
      "source": [
        "G2 = nx.Graph()\n",
        "node_labels2 = [0,1,2,3,4,5,6,7,8,9]\n",
        "edge_labels2 = [(0, 1), (0,2), (1,2), (0,4), (2,3), (3,4), (0,3), (5,6), (8,9)] \n",
        "G2.add_nodes_from(node_labels2)\n",
        "G2.add_edges_from(edge_labels2)"
      ],
      "metadata": {
        "id": "ZD5sTy_oJMOz"
      },
      "execution_count": null,
      "outputs": []
    },
    {
      "cell_type": "code",
      "source": [
        "pos = nx.layout.spectral_layout(G)\n",
        "pos = nx.spring_layout(G, pos=pos, iterations=20, seed=0)\n",
        "\n",
        "pos2 = nx.layout.circular_layout(G2)\n",
        "\n",
        "l_colors = [\"#a5cf52\", \"#a5cf52\", \"#a5cf52\", \"#cf52a5\", \"#cf52a5\", ]\n",
        "l_colors2 = [\"#a5cf52\", \"#a5cf52\", \"#a5cf52\", \"#a5cf52\", \"#a5cf52\", \"#cf52a5\",\n",
        "  \"#cf52a5\", \"#cf52a5\", \"#cf52a5\", \"#cf52a5\" ]\n",
        "\n",
        "fig, axs = plt.subplots(figsize=(9,4), facecolor='w', nrows=1, ncols=2, constrained_layout=True)\n",
        "nx.draw_networkx_nodes(G, pos, node_color=l_colors, linewidths=1, ax=axs[0], node_size=800)\n",
        "nx.draw_networkx_edges(G, pos, width=2, ax=axs[0])\n",
        "axs[0].axis('off')\n",
        "\n",
        "nx.draw_networkx_nodes(G2, pos2, node_color=l_colors2, linewidths=1, ax=axs[1], node_size=800)\n",
        "nx.draw_networkx_edges(G2, pos2, width=2, ax=axs[1])\n",
        "_ = axs[1].axis('off')"
      ],
      "metadata": {
        "id": "6KpUklMvIZ6J"
      },
      "execution_count": null,
      "outputs": []
    },
    {
      "cell_type": "markdown",
      "source": [
        "## 2.3.Graph representations and data structures"
      ],
      "metadata": {
        "id": "ayhssxC6vrfA"
      }
    },
    {
      "cell_type": "markdown",
      "source": [
        "There are different ways to represent a graph. Perhaps the most common is to use an *adjacency matrix*.\n",
        "Consider a graph $G$ with $n$ vertices and $m$ links. Its adjacency matrix is a matrix $A$ with $n$ columns and $n$ rows with entries $A[i, j]$ denoting the number of links connected by vertices $v_i$ and $v_j$. \n",
        "\n",
        "Figure 2.7 shows a simple graph with its respective adjacency matrix.\n",
        "\n",
        "What properties can we see from this example?\n",
        "\n",
        "An adjacency matrix is *symmetric*, if for all $i$ and $j$, $A[i,j] = A[j,i]$. This property reflects the fact that a link is represented as an unordered pair of vertices (i.e., $e = \\langle v_i, v_j \\rangle = \\langle v_j, v_i \\rangle$).\n",
        "2. A graph $G$ is simple if and only if for each $i$ and $j$, $A[i,j] \\leq$ and $A[i,i] = 0$. In other words, there can be at least one link connecting vertices $v_i$ and $v_j$ and, in particular, no link connects to a vertex by itself."
      ],
      "metadata": {
        "id": "PtpFfIwMynoE"
      }
    },
    {
      "cell_type": "markdown",
      "source": [
        "As an alternative, we can also use the *incidence matrix* of a graph as its representation. An incidence matrix $M$ of graph $G$ consists of $n$ rows and $m$ columns such that $M[i,j]$ counts the number of times the link $e_j$ is incident to vertex $v_i$."
      ],
      "metadata": {
        "id": "tNbuGmdb0ncn"
      }
    },
    {
      "cell_type": "code",
      "source": [
        "def draw_graph_and_adjmatrix(G, node_labels, edge_labels):\n",
        "  pos = nx.layout.spectral_layout(G)\n",
        "  pos = nx.spring_layout(G, pos=pos, iterations=20, seed=0)\n",
        "\n",
        "  fig, axs = plt.subplots(figsize=(7,3), facecolor='w', nrows=1, ncols=2, constrained_layout=True)\n",
        "  nx.draw_networkx_nodes(G, pos, node_color=\"#cf52a5\", linewidths=1, ax=axs[0], node_size=800)\n",
        "  nx.draw_networkx_edges(G, pos, width=2, ax=axs[0])\n",
        "  nx.draw_networkx_labels(G, pos, labels=node_labels, ax=axs[0], font_size=14)\n",
        "  nx.draw_networkx_edge_labels(G, pos, edge_labels=edge_labels, ax=axs[0], font_size=16)\n",
        "  axs[0].axis('off')\n",
        "\n",
        "  A = nx.adjacency_matrix(G)\n",
        "  axs[1].imshow(A.todense(), cmap='Greys_r')\n",
        "  axs[1].set_xticks(range(len(node_labels))); \n",
        "  axs[1].set_yticks(range(len(node_labels))); \n",
        "  axs[1].set_xticklabels(node_labels.values(), fontsize=14); \n",
        "  axs[1].set_yticklabels(node_labels.values(), fontsize=14);\n",
        "  print (node_labels.values())\n",
        "  axs[1].axis('on')"
      ],
      "metadata": {
        "id": "OY0XMPA54FKe"
      },
      "execution_count": null,
      "outputs": []
    },
    {
      "cell_type": "code",
      "source": [
        "def example_graph_formalities(node_labels, edge_labels):\n",
        "  G = nx.Graph()\n",
        "  G.add_nodes_from(node_labels)\n",
        "  G.add_edges_from(edge_labels)\n",
        "  draw_graph_and_adjmatrix(\n",
        "      G=G, node_labels=dict({i:\"$v_%i$\" % i for i in node_labels }), #{1:\"$v_1$\", 2 :\"$v_2$\", 3:\"$v_3$\", 4:\"$v_4$\"}, \n",
        "      edge_labels=dict({(edge_labels[i][0], edge_labels[i][1]) : (\"$e_%i$\" % i) for i in range(len(edge_labels))})\n",
        "  )"
      ],
      "metadata": {
        "id": "9ZzD-2P72Z01"
      },
      "execution_count": null,
      "outputs": []
    },
    {
      "cell_type": "code",
      "source": [
        "node_labels = [0,1,2,3,4]\n",
        "edge_labels = [(0, 1), (0,2), (1,2), (2,3), (3,4), (1,3)]"
      ],
      "metadata": {
        "id": "-U5pWZ-1I6X5"
      },
      "execution_count": null,
      "outputs": []
    },
    {
      "cell_type": "code",
      "source": [
        "dict({(edge_labels[i][0], edge_labels[i][1]) : (\"$e_%i$\" % i) for i in range(len(edge_labels))})"
      ],
      "metadata": {
        "id": "6i7IMRZ2JsWV"
      },
      "execution_count": null,
      "outputs": []
    },
    {
      "cell_type": "markdown",
      "source": [
        "### 2.3.1. Adjacency matrix"
      ],
      "metadata": {
        "id": "ieAx3jnbxXnl"
      }
    },
    {
      "cell_type": "code",
      "source": [
        "example_graph_formalities(node_labels, edge_labels)"
      ],
      "metadata": {
        "id": "YKv--0YE3_xj"
      },
      "execution_count": null,
      "outputs": []
    },
    {
      "cell_type": "markdown",
      "source": [
        "### 2.3.2. Incidence matrix"
      ],
      "metadata": {
        "id": "UY3LQIF6xiZf"
      }
    },
    {
      "cell_type": "code",
      "source": [
        "def get_incidence_matrix(node_labels, edge_labels):\n",
        "  M = len(edge_labels)\n",
        "  N = len(node_labels)\n",
        "  mat = np.zeros(shape=(N,M), dtype=np.int8)\n",
        "  for i in range(M):\n",
        "    mat[edge_labels[i][0], i] += 1\n",
        "    mat[edge_labels[i][1], i] += 1\n",
        "  return mat\n",
        "\n",
        "get_incidence_matrix(node_labels=node_labels, edge_labels=edge_labels)"
      ],
      "metadata": {
        "id": "dewo4Jx64Lv2"
      },
      "execution_count": null,
      "outputs": []
    },
    {
      "cell_type": "code",
      "source": [
        "fig, axs = plt.subplots(figsize=(4,3), facecolor='w', nrows=1, ncols=1)\n",
        "axs.imshow(get_incidence_matrix(node_labels=node_labels, edge_labels=edge_labels), cmap='Greys_r', aspect='auto')\n",
        "axs.set_yticks(node_labels); \n",
        "axs.set_yticklabels(dict({i:\"$v_%i$\" % i for i in node_labels }).values(), fontsize=14)\n",
        "axs.set_xticks(range(len(edge_labels)))\n",
        "axs.set_xticklabels(dict({(edge_labels[i][0], edge_labels[i][1]) : (\"$e_%i$\" % i) for i in range(len(edge_labels))}).values(), fontsize=14); "
      ],
      "metadata": {
        "id": "z1L4WEm0ITPq"
      },
      "execution_count": null,
      "outputs": []
    },
    {
      "cell_type": "markdown",
      "source": [
        "### 2.3.3. List of edges\n"
      ],
      "metadata": {
        "id": "qypm6l_pw6fU"
      }
    },
    {
      "cell_type": "markdown",
      "source": [
        "\n",
        "$(\\langle v_0, v_1 \\rangle, \\langle v_0, v_2 \\rangle, \\langle v_1, v_2 \\rangle, \\langle v_2, v_3 \\rangle, \\langle v_3, v_4 \\rangle, \\langle v_1, v_3 \\rangle)$ "
      ],
      "metadata": {
        "id": "AmRG-PhCxQGg"
      }
    },
    {
      "cell_type": "markdown",
      "source": [
        "---"
      ],
      "metadata": {
        "id": "1uEcKo8dPtte"
      }
    }
  ]
}