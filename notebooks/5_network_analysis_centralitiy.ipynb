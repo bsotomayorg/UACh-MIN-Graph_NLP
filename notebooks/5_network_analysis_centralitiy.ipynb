{
  "nbformat": 4,
  "nbformat_minor": 0,
  "metadata": {
    "colab": {
      "provenance": [],
      "toc_visible": true
    },
    "kernelspec": {
      "name": "python3",
      "display_name": "Python 3"
    },
    "language_info": {
      "name": "python"
    }
  },
  "cells": [
    {
      "cell_type": "markdown",
      "source": [
        "# 5. Network analysis: centrality measures"
      ],
      "metadata": {
        "id": "0qdUIrnyqN5a"
      }
    },
    {
      "cell_type": "markdown",
      "source": [
        "Import modules"
      ],
      "metadata": {
        "id": "un0VwIFflYX2"
      }
    },
    {
      "cell_type": "code",
      "source": [
        "import networkx as nx\n",
        "import numpy as np\n",
        "import matplotlib.pyplot as plt\n",
        "import pandas as pd\n",
        "from scipy import stats\n",
        "\n",
        "pd.set_option('display.max_colwidth', 200)\n",
        "%matplotlib inline"
      ],
      "metadata": {
        "id": "5fUEI_KvlQXJ"
      },
      "execution_count": null,
      "outputs": []
    },
    {
      "cell_type": "markdown",
      "source": [
        "Here, we want to assign a value of relevance or importance to each node relative to the network.\n",
        "\n",
        "In order to do that, there are many centrality metrics that focus in different properties of the network to provide a degree of importance or centrality."
      ],
      "metadata": {
        "id": "U6fqyvs5E4et"
      }
    },
    {
      "cell_type": "markdown",
      "source": [
        "To illustrate each centrality measure, we will use Florentine families network [1]."
      ],
      "metadata": {
        "id": "jTD60xYAFpIl"
      }
    },
    {
      "cell_type": "markdown",
      "source": [
        "Loading example from NetworkX:"
      ],
      "metadata": {
        "id": "OmlVc24NHcul"
      }
    },
    {
      "cell_type": "code",
      "source": [
        "G = nx.florentine_families_graph()\n",
        "bw_centrality = nx.betweenness_centrality(G, normalized=True)"
      ],
      "metadata": {
        "id": "7Em8GX6Cgk0p"
      },
      "execution_count": null,
      "outputs": []
    },
    {
      "cell_type": "markdown",
      "source": [
        "Defining position of nodes based on \"spring\" layout:"
      ],
      "metadata": {
        "id": "8OL2AzWaHutX"
      }
    },
    {
      "cell_type": "code",
      "source": [
        "pos = nx.spring_layout(G, iterations=50, seed=0)"
      ],
      "metadata": {
        "id": "eosOA6iHH1y9"
      },
      "execution_count": null,
      "outputs": []
    },
    {
      "cell_type": "markdown",
      "source": [
        "Visualization of families network:"
      ],
      "metadata": {
        "id": "JktYOL-RH2Zt"
      }
    },
    {
      "cell_type": "code",
      "source": [
        "fig, axs = plt.subplots(figsize=(5,5), facecolor='w', nrows=1, ncols=1) #, gridspec_kw={'width_ratios': [1.5, 1]})\n",
        "sc = nx.draw_networkx_nodes(G, pos, node_color='white', linewidths=2, edgecolors='k', ax=axs)\n",
        "nx.draw_networkx_edges(G, pos, width=2, ax=axs); axs.axis('off')\n",
        "_ = axs.set_title(\"Florentine families network\", fontsize=12)"
      ],
      "metadata": {
        "id": "dgGUhtxaPi02"
      },
      "execution_count": null,
      "outputs": []
    },
    {
      "cell_type": "markdown",
      "source": [
        "## 5.1. Centrality measures"
      ],
      "metadata": {
        "id": "UVGOGz8-qxhe"
      }
    },
    {
      "cell_type": "markdown",
      "source": [
        "### 5.1.1. Degree centrality"
      ],
      "metadata": {
        "id": "qyVqeDktq1KO"
      }
    },
    {
      "cell_type": "markdown",
      "source": [
        "The degree centrality of a node correspond to the amount of connections that it has. The higher the degree the more important the node is [2]."
      ],
      "metadata": {
        "id": "yAkLzA06rYV9"
      }
    },
    {
      "cell_type": "markdown",
      "source": [
        "In networkx, we can get the degree centrality using the method `nx.degree_centrality(G)`, with `G` the Graph."
      ],
      "metadata": {
        "id": "UzTZEBYUJDhG"
      }
    },
    {
      "cell_type": "code",
      "source": [
        "nx.degree_centrality(G)"
      ],
      "metadata": {
        "id": "TcjdlTjEkf8R"
      },
      "execution_count": null,
      "outputs": []
    },
    {
      "cell_type": "markdown",
      "source": [
        "It returns a `dict`-like object. Its `keys` correspond to the name of the family (node property) and their `values` correspond to the amount of edges or connections that each node. This value is normalized by dividing by the maximum possible degree in a simple graph $n-1$ where n is the number of nodes in graph $G$ [3]."
      ],
      "metadata": {
        "id": "K0nDYNNVJPmG"
      }
    },
    {
      "cell_type": "markdown",
      "source": [
        "One way to store the cenrtality values into a numpy array is by iterating over the list of values as shown below:"
      ],
      "metadata": {
        "id": "xZUz4r66Kkcn"
      }
    },
    {
      "cell_type": "code",
      "source": [
        "degree_centrality = np.array(list(nx.degree_centrality(G).values()))\n",
        "degree_centrality"
      ],
      "metadata": {
        "id": "kJXoG4gSrmet"
      },
      "execution_count": null,
      "outputs": []
    },
    {
      "cell_type": "markdown",
      "source": [
        "We can visualize the degree centrality of each node by including these values as a input vector of `node_color` from `draw_networkx_nodes` function."
      ],
      "metadata": {
        "id": "Q55kQ1W6KwGd"
      }
    },
    {
      "cell_type": "code",
      "source": [
        "pos = nx.spring_layout(G, iterations=50, seed=0)\n",
        "fig, axs = plt.subplots(figsize=(6,5), facecolor='w', nrows=1, ncols=1) #, gridspec_kw={'width_ratios': [1.5, 1]})\n",
        "sc = nx.draw_networkx_nodes(\n",
        "    G, pos, node_color=degree_centrality, \n",
        "    linewidths=2, edgecolors='k', ax=axs, cmap='plasma')\n",
        "nx.draw_networkx_edges(G, pos, width=2, ax=axs)\n",
        "axs.axis('off'); axs.set_title(\"Florentine families Network\", fontsize=13)\n",
        "cbar = plt.colorbar(sc, ax=axs, ticks=[])\n",
        "cbar.set_label(\"$Degree\\ centrality$\", fontsize=12)"
      ],
      "metadata": {
        "id": "YArAf398sK4G"
      },
      "execution_count": null,
      "outputs": []
    },
    {
      "cell_type": "markdown",
      "source": [
        "### 5.1.2. Closeness centrality"
      ],
      "metadata": {
        "id": "wfn4flcDq3mv"
      }
    },
    {
      "cell_type": "markdown",
      "source": [
        "The distance between two nodes $u$ and $v$ ($d(v,u)$) correspond to the amount of edges needed to reach node $u$ from $v$.\n",
        "\n",
        "The closeness centrality of a node $u$, denoted as $C(u)$, is the reciprocal of the average distance from $u$ to every reachable node.\n",
        "\n",
        "This can be expressed as follows:\n",
        "\n",
        "$$\n",
        "C(u) = \\frac{n-1}{\\sum_{v=1}^{n-1} d(v,u)}.\n",
        "$$\n",
        "\n"
      ],
      "metadata": {
        "id": "Lep3UBqqLrUW"
      }
    },
    {
      "cell_type": "code",
      "source": [
        "closeness_centrality = np.array(list(nx.closeness_centrality(G).values()))\n",
        "closeness_centrality"
      ],
      "metadata": {
        "id": "xM2Gf5RbrjUU"
      },
      "execution_count": null,
      "outputs": []
    },
    {
      "cell_type": "code",
      "source": [
        "pos = nx.spring_layout(G, iterations=50, seed=0)\n",
        "fig, axs = plt.subplots(figsize=(6,5), facecolor='w', nrows=1, ncols=1, constrained_layout=True) #, gridspec_kw={'width_ratios': [1.5, 1]})\n",
        "sc = nx.draw_networkx_nodes(G, pos, node_color=closeness_centrality, linewidths=2, edgecolors='k', ax=axs, cmap='plasma')\n",
        "nx.draw_networkx_edges(G, pos, width=2, ax=axs)\n",
        "axs.axis('off')\n",
        "axs.set_title(\"$Florentine\\ families\\ graph$\", fontsize=13)\n",
        "cbar = plt.colorbar(sc, ax=axs, ticks=[])\n",
        "cbar.set_label(\"$Closeness\\ centrality$\", fontsize=12)"
      ],
      "metadata": {
        "id": "yCIwJSSzsPy1"
      },
      "execution_count": null,
      "outputs": []
    },
    {
      "cell_type": "markdown",
      "source": [
        "### 5.1.3. Betweenness centrality"
      ],
      "metadata": {
        "id": "88qbKPUPq6pP"
      }
    },
    {
      "cell_type": "markdown",
      "source": [
        "It defines centrality of a vertex $u$ by considering the fraction of shortest paths that can be taken through $u$. If there is a high number of paths, the more important or influential $u$ is."
      ],
      "metadata": {
        "id": "yI0cd9uXMmjF"
      }
    },
    {
      "cell_type": "markdown",
      "source": [
        "It is computed as $B(u) = \\sum_{s \\neq v \\neq t} \\frac{\\sigma_{st}(v)}{\\sigma_{st}}$, where $V$ is the set of nodes, $\\sigma_{s,t}$ is the total number of shortest paths between nodes $s$ and $t$, and $\\sigma_{st}(v)$ corresponds to the $\\sigma_{st}$ that goes to $v$. \n",
        "\n",
        "Thus, it is the sum of the fraction of all-pairs shortest paths that pass through any node in $V$."
      ],
      "metadata": {
        "id": "aZQvgCYerF7g"
      }
    },
    {
      "cell_type": "code",
      "source": [
        "betweenness_centrality = np.array(list(nx.betweenness_centrality(G).values()))\n",
        "betweenness_centrality"
      ],
      "metadata": {
        "id": "tGXd5VjTrpLG"
      },
      "execution_count": null,
      "outputs": []
    },
    {
      "cell_type": "code",
      "source": [
        "pos = nx.spring_layout(G, iterations=50, seed=0)\n",
        "fig, axs = plt.subplots(figsize=(6,5), facecolor='w', nrows=1, ncols=1, constrained_layout=True) #, gridspec_kw={'width_ratios': [1.5, 1]})\n",
        "sc = nx.draw_networkx_nodes(G, pos, node_color=betweenness_centrality, linewidths=2, edgecolors='k', ax=axs, cmap='plasma')\n",
        "nx.draw_networkx_edges(G, pos, width=2, ax=axs)\n",
        "axs.axis('off')\n",
        "axs.set_title(\"$Florentine\\ families\\ graph$\", fontsize=13)\n",
        "cbar = plt.colorbar(sc, ax=axs, ticks=[])\n",
        "cbar.set_label(\"$Betweenness\\ centrality$\", fontsize=12)"
      ],
      "metadata": {
        "id": "Wr_Mpj2osThK"
      },
      "execution_count": null,
      "outputs": []
    },
    {
      "cell_type": "markdown",
      "source": [
        "### 5.1.4. Eigenvector centrality"
      ],
      "metadata": {
        "id": "TEsUKScbq894"
      }
    },
    {
      "cell_type": "markdown",
      "source": [
        "Eigenvector centrality computes the centrality for a node based on the centrality of its neighbors. The eigenvector centrality for node $i$ is the $i$-th element of the vector $x$ defined by the equation $A x = \\lambda x$; where $A$ is the adjacency matrix of the graph $G$ with eigenvalue $\\lambda$. By virtue of the Perron-Frobenius theorem, there is a unique solution $x$, all of whose entries are positive, if $\\lambda$ is the largest eigenvalue of the adjacency matrix $A$.[2,3]"
      ],
      "metadata": {
        "id": "zHvDZgSLrJOS"
      }
    },
    {
      "cell_type": "code",
      "source": [
        "eigenvector_centrality = np.array(list(nx.eigenvector_centrality(G).values()))\n",
        "eigenvector_centrality"
      ],
      "metadata": {
        "id": "tx-nLrFzrsrl"
      },
      "execution_count": null,
      "outputs": []
    },
    {
      "cell_type": "code",
      "source": [
        "pos = nx.spring_layout(G, iterations=50, seed=0)\n",
        "fig, axs = plt.subplots(figsize=(6,5), facecolor='w', nrows=1, ncols=1, constrained_layout=True) #, gridspec_kw={'width_ratios': [1.5, 1]})\n",
        "sc = nx.draw_networkx_nodes(G, pos, node_color=eigenvector_centrality, linewidths=2, edgecolors='k', ax=axs, cmap='plasma')\n",
        "nx.draw_networkx_edges(G, pos, width=2, ax=axs)\n",
        "axs.axis('off')\n",
        "axs.set_title(\"$Florentine\\ families\\ graph$\", fontsize=13)\n",
        "cbar = plt.colorbar(sc, ax=axs, ticks=[])\n",
        "cbar.set_label(\"$Eigenvector\\ centrality$\", fontsize=12)"
      ],
      "metadata": {
        "id": "jpVFnkOPsZHR"
      },
      "execution_count": null,
      "outputs": []
    },
    {
      "cell_type": "markdown",
      "source": [
        "## 5.2. Comparison of centrality measures"
      ],
      "metadata": {
        "id": "SKKJ8soUkXhB"
      }
    },
    {
      "cell_type": "code",
      "source": [
        "# sorted\n",
        "fig, axs = plt.subplots(figsize=(8, 3), facecolor='w', nrows=1, ncols=1, constrained_layout=True)\n",
        "axs.plot(np.sort(degree_centrality)[::-1]     , lw=lw, alpha=alpha, label='Degree centrality')\n",
        "axs.plot(np.sort(closeness_centrality)[::-1]  , lw=lw, alpha=alpha, label='Closeness centrality')\n",
        "axs.plot(np.sort(betweenness_centrality)[::-1], lw=lw, alpha=alpha, label='Betweenness centrality')\n",
        "axs.plot(np.sort(eigenvector_centrality)[::-1], lw=lw, alpha=alpha, label='Eigenvector centrality')\n",
        "axs.legend(frameon=False, fontsize=9, bbox_to_anchor=(1, 1.))\n",
        "axs.set_xlim([0,14]); axs.set_ylim(bottom=0)\n",
        "axs.set_xticks(range(15)); axs.set_xticklabels([])\n",
        "axs.set_ylabel(\"Normalized centrality\")\n",
        "axs.set_xlabel(\"Node ID (Sorted)\")\n",
        "axs.spines[['right', 'top']].set_visible(False)"
      ],
      "metadata": {
        "id": "tayrJFl7kjNK"
      },
      "execution_count": null,
      "outputs": []
    },
    {
      "cell_type": "code",
      "source": [
        "alpha = 0.8; lw=2\n",
        "fig, axs = plt.subplots(figsize=(8, 3), facecolor='w', nrows=1, ncols=1, constrained_layout=True)\n",
        "axs.plot(degree_centrality     , lw=lw, alpha=alpha, label='Degree centrality')\n",
        "axs.plot(closeness_centrality  , lw=lw, alpha=alpha, label='Closeness centrality')\n",
        "axs.plot(betweenness_centrality, lw=lw, alpha=alpha, label='Betweenness centrality')\n",
        "axs.plot(eigenvector_centrality, lw=lw, alpha=alpha, label='Eigenvector centrality')\n",
        "axs.set_xlim([0,14]); axs.set_ylim(bottom=0)\n",
        "axs.set_xticks(range(15)); axs.set_xticklabels([])\n",
        "axs.set_ylabel(\"Normalized centrality\")\n",
        "axs.set_xlabel(\"Node ID\")\n",
        "axs.spines[['right', 'top']].set_visible(False)"
      ],
      "metadata": {
        "id": "FGIFA8OBE4yq"
      },
      "execution_count": null,
      "outputs": []
    },
    {
      "cell_type": "code",
      "source": [
        "l_centralities = [\n",
        "    degree_centrality, closeness_centrality, \n",
        "    betweenness_centrality, eigenvector_centrality]\n",
        "l_centrality_names = ['Degree centrality', 'Closeness centrality', \n",
        "    'Betweenness centrality', 'Eigenvector centrality']"
      ],
      "metadata": {
        "id": "JPQW6Fg6CzSh"
      },
      "execution_count": null,
      "outputs": []
    },
    {
      "cell_type": "code",
      "source": [
        "pos = nx.spring_layout(G, iterations=50, seed=0)\n",
        "fig, axs = plt.subplots(figsize=(4*4,4), facecolor='w', nrows=1, ncols=4, constrained_layout=True) #, gridspec_kw={'width_ratios': [1.5, 1]})\n",
        "\n",
        "for i in range(len(l_centralities)):\n",
        "  sc = nx.draw_networkx_nodes(G, pos, node_color=l_centralities[i], linewidths=2, edgecolors='k', ax=axs[i], cmap='plasma')\n",
        "  nx.draw_networkx_edges(G, pos, width=2, ax=axs[i])\n",
        "  axs[i].axis('off')\n",
        "  axs[i].set_title(l_centrality_names[i], fontsize=14)\n",
        "  #cbar = plt.colorbar(sc, ax=axs[i], ticks=[])\n",
        "  #cbar.set_label(\"$Eigenvector\\ centrality$\", fontsize=12)"
      ],
      "metadata": {
        "id": "hrCfzJrcCfNR"
      },
      "execution_count": null,
      "outputs": []
    },
    {
      "cell_type": "markdown",
      "source": [
        "Thus, the main differences between these centrality metrics lie in the aspect they capture: \n",
        "+ The **Degree centrality** measures the number of connections (and is based on that alone). \n",
        "+ The **Closeness centrality** measures the average distance to other nodes. \n",
        "+ The **Betweeness centrality** captures the role of the node as an intermediary node.\n",
        "+ The **Eigen-vector centrality** incorporates both direct centrality (which is the degree) as well as the centrality of its neighbors."
      ],
      "metadata": {
        "id": "ZDpd2dbp1nDX"
      }
    },
    {
      "cell_type": "markdown",
      "source": [
        "## References"
      ],
      "metadata": {
        "id": "oeBCqegxVSDX"
      }
    },
    {
      "cell_type": "markdown",
      "source": [
        "1. Ronald L. Breiger and Philippa E. Pattison Cumulated social roles: The duality of persons and their algebras, 1 Social Networks, Volume 8, Issue 3, September 1986, Pages 215-256\n",
        "2. Phillip Bonacich. “Power and Centrality: A Family of Measures.” American Journal of Sociology 92(5):1170–1182, 1986. http://www.leonidzhukov.net/hse/2014/socialnetworks/papers/Bonacich-Centrality.pdf.\n",
        "3. Mark E. J. Newman. Networks: An Introduction. Oxford University Press, USA, 2010, pp. 169.\n",
        "4. Golbeck, J. (2015). Introduction to social media investigation: A hands-on approach. Syngress.\n",
        "5. Network X. Degree Centrality. Link: https://networkx.org/documentation/stable/reference/algorithms/generated/networkx.algorithms.centrality.degree_centrality.html.\n",
        "6. Newman, Mark EJ. \"The mathematics of networks.\" The new palgrave encyclopedia of economics 2.2008 (2008): 1-12."
      ],
      "metadata": {
        "id": "9Ygd9W8tFSBO"
      }
    },
    {
      "cell_type": "markdown",
      "source": [
        "----"
      ],
      "metadata": {
        "id": "V8qjKLDr9_na"
      }
    }
  ]
}