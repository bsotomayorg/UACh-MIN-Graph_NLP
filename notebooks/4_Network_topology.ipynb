{
  "nbformat": 4,
  "nbformat_minor": 0,
  "metadata": {
    "colab": {
      "provenance": [],
      "toc_visible": true
    },
    "kernelspec": {
      "name": "python3",
      "display_name": "Python 3"
    },
    "language_info": {
      "name": "python"
    }
  },
  "cells": [
    {
      "cell_type": "markdown",
      "source": [
        "# 4. Topology: network properties"
      ],
      "metadata": {
        "id": "0qdUIrnyqN5a"
      }
    },
    {
      "cell_type": "markdown",
      "source": [
        "Import modules:"
      ],
      "metadata": {
        "id": "un0VwIFflYX2"
      }
    },
    {
      "cell_type": "code",
      "source": [
        "import networkx as nx\n",
        "import numpy as np\n",
        "import matplotlib.pyplot as plt\n",
        "import pandas as pd\n",
        "from scipy import stats\n",
        "\n",
        "pd.set_option('display.max_colwidth', 200)\n",
        "%matplotlib inline"
      ],
      "metadata": {
        "id": "5fUEI_KvlQXJ"
      },
      "execution_count": null,
      "outputs": []
    },
    {
      "cell_type": "markdown",
      "source": [
        "When studying the topology of a network, we refer to the characteristics of the network structure.\n",
        "\n",
        "There are many metrics that allow us to characterize and compare network topologies.\n",
        "\n",
        "Example of these features/metrics are:\n",
        "+ Network Size ($N_i$)\n",
        "+ Number of links ($E_i$)\n",
        "+ Node degree ($K_{i,u}$)\n",
        "+ Density ($d_i$)\n",
        "+ Accumulated degree ($K_i$)\n",
        "+ Weighted link of attribute ($W_i$)\n",
        "+ Number of components ($c_i$)\n",
        "+ Nodes of the largest connected component ($S_i$)\n",
        "+ Mean clustering coefficient ($\\langle C_i \\rangle$)\n",
        "+ Number of triangles ($\\# \\Delta$)\n",
        "+ Average path length ($\\langle l \\rangle$)\n"
      ],
      "metadata": {
        "id": "6nCKINjvxXB5"
      }
    },
    {
      "cell_type": "markdown",
      "source": [
        "**Example:** Florenntine families Graph"
      ],
      "metadata": {
        "id": "aIe8ZJ7KueAl"
      }
    },
    {
      "cell_type": "code",
      "source": [
        "G = nx.florentine_families_graph()"
      ],
      "metadata": {
        "id": "73aBlGvRRGCJ"
      },
      "execution_count": null,
      "outputs": []
    },
    {
      "cell_type": "code",
      "source": [
        "pos = nx.spring_layout(G, iterations=50, seed=0)"
      ],
      "metadata": {
        "id": "BjYFVRNNRtdi"
      },
      "execution_count": null,
      "outputs": []
    },
    {
      "cell_type": "code",
      "source": [
        "fig, axs = plt.subplots(figsize=(5,5), facecolor='w', nrows=1, ncols=1, constrained_layout=True) #, gridspec_kw={'width_ratios': [1.5, 1]})\n",
        "sc = nx.draw_networkx_nodes(G, pos, node_color='white', linewidths=2, edgecolors='k', ax=axs)\n",
        "nx.draw_networkx_edges(G, pos, width=2, ax=axs)\n",
        "axs.axis('off')\n",
        "axs.set_title(\"$Florentine\\ families\\ graph$\", fontsize=10)"
      ],
      "metadata": {
        "id": "4AG2ZpRBQP2q"
      },
      "execution_count": null,
      "outputs": []
    },
    {
      "cell_type": "markdown",
      "source": [
        "## 4.1. Topology measures"
      ],
      "metadata": {
        "id": "g87wEKMHuFVV"
      }
    },
    {
      "cell_type": "markdown",
      "source": [
        "#### 4.1.3. Network size ($N_i$)"
      ],
      "metadata": {
        "id": "dRyFm5exvz-R"
      }
    },
    {
      "cell_type": "markdown",
      "source": [
        "Number of nodes."
      ],
      "metadata": {
        "id": "Rgz_OcYVyulb"
      }
    },
    {
      "cell_type": "code",
      "source": [
        "network_size = G.number_of_nodes() \n",
        "network_size"
      ],
      "metadata": {
        "id": "gxd5z-37ztbA"
      },
      "execution_count": null,
      "outputs": []
    },
    {
      "cell_type": "markdown",
      "source": [
        "#### 4.1.2. Number of links ($E_i$)"
      ],
      "metadata": {
        "id": "zokuN86Bv5GP"
      }
    },
    {
      "cell_type": "markdown",
      "source": [
        "Number of edges or connections."
      ],
      "metadata": {
        "id": "S8oQ7EV6yxTx"
      }
    },
    {
      "cell_type": "code",
      "source": [
        "number_of_links = G.number_of_edges() \n",
        "number_of_links"
      ],
      "metadata": {
        "id": "aUXrS2rZz-PJ"
      },
      "execution_count": null,
      "outputs": []
    },
    {
      "cell_type": "markdown",
      "source": [
        "#### 4.1.3. Node degree ($K_{i,u}$)"
      ],
      "metadata": {
        "id": "feOO0Tz9UJ8S"
      }
    },
    {
      "cell_type": "code",
      "source": [
        "G.degree()"
      ],
      "metadata": {
        "id": "O4P2jxouS8DJ"
      },
      "execution_count": null,
      "outputs": []
    },
    {
      "cell_type": "code",
      "source": [
        "G.degree()"
      ],
      "metadata": {
        "id": "r-ZPq1YoVDnh"
      },
      "execution_count": null,
      "outputs": []
    },
    {
      "cell_type": "code",
      "source": [
        "dict(G.degree()).values()"
      ],
      "metadata": {
        "id": "hJfqVh2_TKHY"
      },
      "execution_count": null,
      "outputs": []
    },
    {
      "cell_type": "code",
      "source": [
        "G_degrees = np.array(list(dict(G.degree()).values()))\n",
        "G_degrees"
      ],
      "metadata": {
        "id": "nnvqqEHARl_w"
      },
      "execution_count": null,
      "outputs": []
    },
    {
      "cell_type": "markdown",
      "source": [
        "#### 4.1.4. Density ($d_i$)"
      ],
      "metadata": {
        "id": "qw_3-96IwE1R"
      }
    },
    {
      "cell_type": "markdown",
      "source": [
        " Ratio of actual connections $d_i = \\frac{2 E_i}{N_i (N_i - 1)}$ for undirected graphs and $d_i = \\frac{E_i}{N_i (N_i - 1)}$ for directed ones."
      ],
      "metadata": {
        "id": "TU1PNgZaw74_"
      }
    },
    {
      "cell_type": "code",
      "source": [
        "density = nx.density(G) \n",
        "density, 2*(number_of_links/(network_size*(network_size-1)))"
      ],
      "metadata": {
        "id": "H3QF0YTcz_ea"
      },
      "execution_count": null,
      "outputs": []
    },
    {
      "cell_type": "markdown",
      "source": [
        "#### 4.1.5. Accumulated degree ($K_i$)"
      ],
      "metadata": {
        "id": "dGzKSB6twIX8"
      }
    },
    {
      "cell_type": "markdown",
      "source": [
        " Total contacts in Graph $i$.\n",
        " \n",
        " $K_i = \\sum_n k_n$"
      ],
      "metadata": {
        "id": "dhRHFMLWwyC1"
      }
    },
    {
      "cell_type": "code",
      "source": [
        "accumulated_degree = np.sum(G_degrees)\n",
        "accumulated_degree"
      ],
      "metadata": {
        "id": "N084bHSH0w6b"
      },
      "execution_count": null,
      "outputs": []
    },
    {
      "cell_type": "markdown",
      "source": [
        "#### 4.1.6. Weighted links of attribute `attr` ($W_i$)"
      ],
      "metadata": {
        "id": "ovv16wgZwTe_"
      }
    },
    {
      "cell_type": "markdown",
      "source": [
        "Sum of weighted links based on a given attribute $attr$.\n",
        "\n",
        "$W_i = \\sum_u \\sum_{u > v} w_{uv}^{attr}$"
      ],
      "metadata": {
        "id": "upI8M3sIwwmm"
      }
    },
    {
      "cell_type": "code",
      "source": [
        "number_connected_components = nx.number_connected_components(G)\n",
        "number_connected_components"
      ],
      "metadata": {
        "id": "ROydq5iU1KHS"
      },
      "execution_count": null,
      "outputs": []
    },
    {
      "cell_type": "markdown",
      "source": [
        "#### 4.1.7. Number of components ($c_i$)"
      ],
      "metadata": {
        "id": "QUFsDIUlxFjk"
      }
    },
    {
      "cell_type": "code",
      "source": [
        "number_connected_components = nx.number_connected_components(G)\n",
        "number_connected_components"
      ],
      "metadata": {
        "id": "oKXxGubE1aRg"
      },
      "execution_count": null,
      "outputs": []
    },
    {
      "cell_type": "markdown",
      "source": [
        "Network structure/fragmentation."
      ],
      "metadata": {
        "id": "7SK6V9SdzK_b"
      }
    },
    {
      "cell_type": "markdown",
      "source": [
        "#### 4.1.8. Nodos en la componente principal ($S_i$)"
      ],
      "metadata": {
        "id": "KSiqIahYxKBO"
      }
    },
    {
      "cell_type": "markdown",
      "source": [
        "Network structure/fragmentation."
      ],
      "metadata": {
        "id": "0dkjaE6CzPff"
      }
    },
    {
      "cell_type": "markdown",
      "source": [
        "#### 4.1.9. Mean clustering coefficient $\\langle C_i \\rangle$"
      ],
      "metadata": {
        "id": "xSe7DMeoxXN_"
      }
    },
    {
      "cell_type": "markdown",
      "source": [
        "Probabbility of common neighbours.\n",
        "\n",
        "$\\langle C_i \\rangle = \\frac{1}{N_i} \\sum_n C^\\prime_{n,i}$, where $C^\\prime_{n,i} = \\frac{E^{(n)}}{k_n(k_n-1)}$"
      ],
      "metadata": {
        "id": "J9vUw3InxjRZ"
      }
    },
    {
      "cell_type": "code",
      "source": [
        "mean_clustering_coef = nx.average_clustering(G)\n",
        "mean_clustering_coef"
      ],
      "metadata": {
        "id": "Wo8eEwLt1kIp"
      },
      "execution_count": null,
      "outputs": []
    },
    {
      "cell_type": "markdown",
      "source": [
        "#### 4.1.10. Number of triangles ($\\#\\Delta$)"
      ],
      "metadata": {
        "id": "4zILhrWV2zIS"
      }
    },
    {
      "cell_type": "markdown",
      "source": [
        "Number of triangles that includes a given node as one of its vertex."
      ],
      "metadata": {
        "id": "ypQOAYoT3phF"
      }
    },
    {
      "cell_type": "code",
      "source": [
        "nx.triangles(G)"
      ],
      "metadata": {
        "id": "9wSTJQ6F4My4"
      },
      "execution_count": null,
      "outputs": []
    },
    {
      "cell_type": "code",
      "source": [
        "G_tri = np.array(list(dict(nx.triangles(G)).values()))"
      ],
      "metadata": {
        "id": "HBN47jch403q"
      },
      "execution_count": null,
      "outputs": []
    },
    {
      "cell_type": "code",
      "source": [
        "G_tri"
      ],
      "metadata": {
        "id": "W9CI5xuu4HMx"
      },
      "execution_count": null,
      "outputs": []
    },
    {
      "cell_type": "code",
      "source": [
        "average_triangles = np.mean(G_tri)\n",
        "average_triangles"
      ],
      "metadata": {
        "id": "oKrV8uRU49MK"
      },
      "execution_count": null,
      "outputs": []
    },
    {
      "cell_type": "markdown",
      "source": [
        "#### 4.1.11. Average path length $\\langle l \\rangle$"
      ],
      "metadata": {
        "id": "LN--U8WZyP2Z"
      }
    },
    {
      "cell_type": "markdown",
      "source": [
        "Social accessibility between non-interactings.\n",
        "\n",
        "$\\langle l \\rangle = \\sum \\sum l_{i,j}$"
      ],
      "metadata": {
        "id": "DK61B2VFyg35"
      }
    },
    {
      "cell_type": "code",
      "source": [
        "average_shortest_path_length = nx.average_shortest_path_length(G)\n",
        "average_shortest_path_length"
      ],
      "metadata": {
        "id": "SPRPArcx2kev"
      },
      "execution_count": null,
      "outputs": []
    },
    {
      "cell_type": "markdown",
      "source": [
        "## 4.2. Example: Comparison of topology metric between two networks"
      ],
      "metadata": {
        "id": "RgWDUojbunQl"
      }
    },
    {
      "cell_type": "markdown",
      "source": [
        "In this section, we will compare the topology of two networks based on some of previous measures."
      ],
      "metadata": {
        "id": "2sumd3e9u2b0"
      }
    },
    {
      "cell_type": "code",
      "source": [
        "G1 = nx.florentine_families_graph()\n",
        "G2 = nx.karate_club_graph()"
      ],
      "metadata": {
        "id": "1Elo-OnivSU7"
      },
      "execution_count": null,
      "outputs": []
    },
    {
      "cell_type": "code",
      "source": [
        "fig, axs = plt.subplots(figsize=(7,5), facecolor='w', nrows=1, ncols=2, constrained_layout=True) #, gridspec_kw={'width_ratios': [1.5, 1]})\n",
        "\n",
        "pos = nx.spring_layout(G1, iterations=100, seed=0)\n",
        "sc = nx.draw_networkx_nodes(G1, pos, node_color='royalblue', linewidths=2, edgecolors='k', ax=axs[0], node_size=100)\n",
        "nx.draw_networkx_edges(G1, pos, width=1, ax=axs[0])\n",
        "\n",
        "pos = nx.spring_layout(G2, iterations=100, seed=0)\n",
        "sc = nx.draw_networkx_nodes(G2, pos, node_color='orange', linewidths=2, edgecolors='k', ax=axs[1], node_size=100)\n",
        "nx.draw_networkx_edges(G2, pos, width=1, ax=axs[1])\n",
        "axs[0].axis('off'); axs[1].axis('off');\n",
        "axs[0].set_title('\"Florentine families\"', fontsize=16)\n",
        "axs[1].set_title('\"Karate club\"', fontsize=16)"
      ],
      "metadata": {
        "id": "AZTVyivbvGz4"
      },
      "execution_count": null,
      "outputs": []
    },
    {
      "cell_type": "markdown",
      "source": [
        "Thus, for both graphs, we will compute the next metrics:\n",
        "+ Network size ($N_i$)\n",
        "+ Number of links ($E_i$)\n",
        "+ Average node degree ($\\langle K_{i} \\rangle$)\n",
        "+ Density ($d_i$)\n",
        "+ Accumulated degree ($K_i$)\n",
        "+ Mean clustering coefficient ($\\langle C_i \\rangle$)\n",
        "+ Average number of triangles ($\\langle \\# \\Delta \\rangle$)\n",
        "+ Average path length ($\\langle l \\rangle$)\n",
        "\n"
      ],
      "metadata": {
        "id": "CyxUK944xEbM"
      }
    },
    {
      "cell_type": "code",
      "source": [
        "def get_topology_values(G):\n",
        "  # input:\n",
        "  # G: Networkx Graph\n",
        "  # out:\n",
        "  # dict (key: metric name, value: metric value)\n",
        "\n",
        "  d_topology_vals = {\n",
        "      \"network_size\" : G.number_of_nodes(),\n",
        "      \"number_of_links\" : G.number_of_edges(),\n",
        "      \"avg_degree\" : np.mean(list(dict(G.degree()).values())),\n",
        "      \"density\" : nx.density(G),\n",
        "      \"accumulated_degeree\" : np.sum(list(dict(G.degree()).values())),\n",
        "      \"avg_clustering_coef\" : nx.average_clustering(G),\n",
        "      \"avg_triangles\" : np.mean(list(nx.triangles(G).values())),\n",
        "      \"avg_path_length\" : nx.average_shortest_path_length(G),\n",
        "  }\n",
        "\n",
        "  return d_topology_vals"
      ],
      "metadata": {
        "id": "PpCckcZhwZu1"
      },
      "execution_count": null,
      "outputs": []
    },
    {
      "cell_type": "code",
      "source": [
        "topology_G1 = get_topology_values(G1)\n",
        "topology_G2 = get_topology_values(G2)"
      ],
      "metadata": {
        "id": "S94XWBgazPpL"
      },
      "execution_count": null,
      "outputs": []
    },
    {
      "cell_type": "code",
      "source": [
        "df = pd.DataFrame([topology_G1, topology_G2], index=[\"G_1\", \"G_2\"])"
      ],
      "metadata": {
        "id": "ae9Vi0_SzWQm"
      },
      "execution_count": null,
      "outputs": []
    },
    {
      "cell_type": "code",
      "source": [
        "df.T"
      ],
      "metadata": {
        "id": "kXAtrl6Kwiip"
      },
      "execution_count": null,
      "outputs": []
    },
    {
      "cell_type": "markdown",
      "source": [
        "## References \n"
      ],
      "metadata": {
        "id": "VwT8fOXyzCh4"
      }
    },
    {
      "cell_type": "markdown",
      "source": [
        "1. Maarten van Steen (2010). Graph Theory and Complex Networks. An Introduction (Book).\n",
        "1. Newman, M. (2010). Networks: An Introduction (Book).\n",
        "Robin J. Wilson (1996). Introduction to Graph Theory (eBook: https://www.maths.ed.ac.uk/~v1ranick/papers/wilsongraph.pdf).\n",
        "1. Samaniego, H., Franco-Cisterna, M., & Sotomayor-Gómez, B. (2020). The topology of communicating across cities of increasing sizes, or the complex task of “reaching out” in larger cities. Theories and Models of Urbanization: Geography, Economics and Computing Sciences, 97-118. (Article, https://link.springer.com/chapter/10.1007/978-3-030-36656-8_6)"
      ],
      "metadata": {
        "id": "FfdlXfsJ2sHu"
      }
    },
    {
      "cell_type": "markdown",
      "source": [
        "---"
      ],
      "metadata": {
        "id": "ovaD86vPtqp_"
      }
    }
  ]
}