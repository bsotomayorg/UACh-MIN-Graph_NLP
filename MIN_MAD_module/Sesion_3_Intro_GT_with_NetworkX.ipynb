{
  "nbformat": 4,
  "nbformat_minor": 0,
  "metadata": {
    "colab": {
      "provenance": [],
      "toc_visible": true
    },
    "kernelspec": {
      "name": "python3",
      "display_name": "Python 3"
    },
    "language_info": {
      "name": "python"
    }
  },
  "cells": [
    {
      "cell_type": "markdown",
      "source": [
        "# Introducción a Teoría Grafos y Análisis de Redes con NetworkX"
      ],
      "metadata": {
        "id": "opj-egyhW4_4"
      }
    },
    {
      "cell_type": "markdown",
      "source": [
        "## 1.1. Creación de grafos"
      ],
      "metadata": {
        "id": "2YJTHcmP0Wcp"
      }
    },
    {
      "cell_type": "markdown",
      "source": [
        "**Importar modulos**"
      ],
      "metadata": {
        "id": "DEV8BCsmXcwX"
      }
    },
    {
      "cell_type": "code",
      "source": [
        "import networkx as nx\n",
        "import numpy as np\n",
        "import matplotlib.pyplot as plt\n",
        "import pandas as pd\n",
        "from scipy import stats\n",
        "\n",
        "pd.set_option('display.max_colwidth', 200)\n",
        "%matplotlib inline"
      ],
      "metadata": {
        "id": "vmrX7WjKzxC1"
      },
      "execution_count": null,
      "outputs": []
    },
    {
      "cell_type": "markdown",
      "source": [
        "**Nodos y enlaces**"
      ],
      "metadata": {
        "id": "EoonoXLaXcCZ"
      }
    },
    {
      "cell_type": "code",
      "source": [
        "node_labels = [0,1,2,3,4]\n",
        "edge_labels = [(0, 1), (0,2), (1,2), (2,3), (3,4), (1,3)] "
      ],
      "metadata": {
        "id": "obd6klr4XOmQ"
      },
      "execution_count": null,
      "outputs": []
    },
    {
      "cell_type": "markdown",
      "source": [
        "**Creación de grafo en networkX**"
      ],
      "metadata": {
        "id": "Udl4AtB5Xjdr"
      }
    },
    {
      "cell_type": "code",
      "source": [
        "G = nx.Graph()\n",
        "G.add_nodes_from(node_labels)\n",
        "G.add_edges_from(edge_labels)"
      ],
      "metadata": {
        "id": "qU4ce3FiXLt5"
      },
      "execution_count": null,
      "outputs": []
    },
    {
      "cell_type": "markdown",
      "source": [
        "**Especificación de layout**"
      ],
      "metadata": {
        "id": "T5NhxKIJXVmo"
      }
    },
    {
      "cell_type": "code",
      "source": [
        "pos = nx.layout.spectral_layout(G)\n",
        "pos = nx.spring_layout(G, pos=pos, iterations=20, seed=0)"
      ],
      "metadata": {
        "id": "JmlPueBgXRIP"
      },
      "execution_count": null,
      "outputs": []
    },
    {
      "cell_type": "code",
      "source": [
        "l_colors = [\"#a5cf52\", \"#a5cf52\", \"#a5cf52\", \"#cf52a5\", \"#cf52a5\", ]"
      ],
      "metadata": {
        "id": "fnAILGoQXu2R"
      },
      "execution_count": null,
      "outputs": []
    },
    {
      "cell_type": "code",
      "source": [
        "fig, axs = plt.subplots(figsize=(4,4), facecolor='w', nrows=1, ncols=1, constrained_layout=True)\n",
        "nx.draw_networkx_nodes(G, pos, node_color=l_colors, linewidths=1, ax=axs, node_size=800)\n",
        "nx.draw_networkx_edges(G, pos, width=2, ax=axs)\n",
        "_ = axs.axis('off')"
      ],
      "metadata": {
        "id": "h3YHxM9RXVAJ"
      },
      "execution_count": null,
      "outputs": []
    },
    {
      "cell_type": "markdown",
      "source": [
        "También es posible crear grafos directamente desde la matriz de adyacencia:"
      ],
      "metadata": {
        "id": "dJSHf9fGYPJE"
      }
    },
    {
      "cell_type": "code",
      "source": [
        "A = np.array([\n",
        "  [0,1,1,0,0],\n",
        "  [0,0,1,1,0],\n",
        "  [0,1,0,0,1],\n",
        "  [0,1,0,0,1],\n",
        "  [0,0,1,1,0],\n",
        "]) "
      ],
      "metadata": {
        "id": "Ys2HknZXYShB"
      },
      "execution_count": null,
      "outputs": []
    },
    {
      "cell_type": "code",
      "source": [
        "G = nx.Graph(A)"
      ],
      "metadata": {
        "id": "PDAjL51AYxuo"
      },
      "execution_count": null,
      "outputs": []
    },
    {
      "cell_type": "code",
      "source": [
        "pos = nx.spring_layout(G, pos=pos, iterations=20, seed=0)"
      ],
      "metadata": {
        "id": "pMlYgB70ZDqx"
      },
      "execution_count": null,
      "outputs": []
    },
    {
      "cell_type": "code",
      "source": [
        "fig, axs = plt.subplots(figsize=(4,4), facecolor='w', nrows=1, ncols=1, constrained_layout=True)\n",
        "nx.draw_networkx_nodes(G, pos, linewidths=1, ax=axs, node_size=200)\n",
        "nx.draw_networkx_edges(G, pos, width=2, ax=axs)\n",
        "_ = axs.axis('off')"
      ],
      "metadata": {
        "id": "ba9ZhvK8Y1NP"
      },
      "execution_count": null,
      "outputs": []
    },
    {
      "cell_type": "markdown",
      "source": [
        "---"
      ],
      "metadata": {
        "id": "AMk97wAC0gV2"
      }
    },
    {
      "cell_type": "markdown",
      "source": [
        "## 1.2. Grafos dirigidos (Digrafos)"
      ],
      "metadata": {
        "id": "tLbupGDouvcc"
      }
    },
    {
      "cell_type": "code",
      "source": [
        "node_labels = [0,1,2,3,4]\n",
        "edge_labels = [(0, 1), (0,2), (1,2), (2,3), (4,3), (3,4), (1,3), (4,0)]\n",
        "\n",
        "fig, axs = plt.subplots(figsize=(5,3), facecolor='w', nrows=1, ncols=2, constrained_layout=True)\n",
        "\n",
        "# definicion del digrafo D\n",
        "\n",
        "D = nx.DiGraph()\n",
        "D.add_nodes_from(node_labels)\n",
        "D.add_edges_from(edge_labels)\n",
        "pos = nx.layout.circular_layout(D)\n",
        "nx.draw_networkx_nodes(D, pos, node_color=\"#cf52a5\", linewidths=1, ax=axs[0], node_size=200)\n",
        "nx.draw_networkx_edges(D, pos, width=1.5, ax=axs[0])\n",
        "axs[0].axis('off')\n",
        "\n",
        "# definicion del complemento de D\n",
        "\n",
        "D_complement = nx.complement(D)\n",
        "pos = nx.layout.circular_layout(D_complement)\n",
        "nx.draw_networkx_nodes(D_complement, pos, node_color=\"#cf52a5\", linewidths=1, ax=axs[1], node_size=200)\n",
        "nx.draw_networkx_edges(D_complement, pos, width=1.5, ax=axs[1]) #52a5cf\n",
        "axs[1].axis('off')\n",
        "\n",
        "axs[0].set_title(r\"$D$\", fontsize=18)\n",
        "axs[1].set_title(r\"$\\overline{D}$\", fontsize=18)\n"
      ],
      "metadata": {
        "id": "RTu3Ci4QIk6H"
      },
      "execution_count": null,
      "outputs": []
    },
    {
      "cell_type": "markdown",
      "source": [
        "## 1.3. Grafos ponderados"
      ],
      "metadata": {
        "id": "VVKHLda4uy-M"
      }
    },
    {
      "cell_type": "code",
      "source": [
        "node_labels = [0,1,2,3,4]\n",
        "edge_labels = [(0, 1), (0,2), (1,2), (2,3), (3,4), (1,3)]\n",
        "weight = [1, 1, 2, 2, 4, 2]\n",
        "weighted_edges = [(edge_labels[i][0], edge_labels[i][1], weight[i]) for i in range(len(edge_labels))]"
      ],
      "metadata": {
        "id": "Luat2m-qP8cB"
      },
      "execution_count": null,
      "outputs": []
    },
    {
      "cell_type": "code",
      "source": [
        "W = nx.Graph()\n",
        "W.add_nodes_from(node_labels)\n",
        "W.add_weighted_edges_from(weighted_edges, weight='weight')"
      ],
      "metadata": {
        "id": "JXjyI5kZP9wB"
      },
      "execution_count": null,
      "outputs": []
    },
    {
      "cell_type": "code",
      "source": [
        "fig, axs = plt.subplots(figsize=(2.5,3), facecolor='w', nrows=1, ncols=1, constrained_layout=True)\n",
        "pos = nx.layout.circular_layout(W)\n",
        "nx.draw_networkx_nodes(W, pos, node_color=\"#cf52a5\", linewidths=1, ax=axs, node_size=200)\n",
        "nx.draw_networkx_edges(W, pos, width=weight, ax=axs)\n",
        "axs.axis('off')\n",
        "axs.set_title(r\"$W$\", fontsize=18)"
      ],
      "metadata": {
        "id": "TKvIPJ2mqlfS"
      },
      "execution_count": null,
      "outputs": []
    },
    {
      "cell_type": "code",
      "source": [
        "W.edges.data(\"weight\")"
      ],
      "metadata": {
        "id": "SPlHdfCnsiRs"
      },
      "execution_count": null,
      "outputs": []
    },
    {
      "cell_type": "code",
      "source": [
        "WA = nx.adjacency_matrix(W, weight='weight').todense()\n",
        "WA"
      ],
      "metadata": {
        "id": "tScSSaMQpmCN"
      },
      "execution_count": null,
      "outputs": []
    },
    {
      "cell_type": "code",
      "source": [
        "fig, axs = plt.subplots(figsize=(4,3), facecolor='w', nrows=1, ncols=1)\n",
        "cmap_ = plt.cm.get_cmap('Greys_r')\n",
        "im = axs.imshow(WA, cmap=cmap_)\n",
        "cbar = plt.colorbar(im, ax=axs, ticks=[0,1,2,3,4])\n",
        "cbar.set_label(\"weights\")\n",
        "axs.set_xlabel(\"Nodes\"); axs.set_ylabel(\"Nodes\");"
      ],
      "metadata": {
        "id": "Buu8QKSIrk2I"
      },
      "execution_count": null,
      "outputs": []
    },
    {
      "cell_type": "markdown",
      "source": [
        "## 1.4. Grafos dirigidos y ponderados"
      ],
      "metadata": {
        "id": "9EP6sd1su6_z"
      }
    },
    {
      "cell_type": "code",
      "source": [
        "node_labels = [0,1,2,3,4]\n",
        "edge_labels = [(0, 1), (0,2), (1,2), (2,3), (4,3), (3,4), (1,3), (4,0)]\n",
        "weight = [1, 1, 2, 2, 4, 2, 1, 2]\n",
        "weighted_edges = [(edge_labels[i][0], edge_labels[i][1], weight[i]) for i in range(len(edge_labels))]"
      ],
      "metadata": {
        "id": "_rJID9dtQ1m3"
      },
      "execution_count": null,
      "outputs": []
    },
    {
      "cell_type": "code",
      "source": [
        "WD = nx.DiGraph()\n",
        "WD.add_nodes_from(node_labels)\n",
        "WD.add_weighted_edges_from(weighted_edges, weight='weight')"
      ],
      "metadata": {
        "id": "sWv6253xQ1m4"
      },
      "execution_count": null,
      "outputs": []
    },
    {
      "cell_type": "code",
      "source": [
        "fig, axs = plt.subplots(figsize=(2.5,3), facecolor='w', nrows=1, ncols=1, constrained_layout=True)\n",
        "pos = nx.layout.circular_layout(WD)\n",
        "nx.draw_networkx_nodes(WD, pos, node_color=\"#cf52a5\", linewidths=1, ax=axs, node_size=200)\n",
        "nx.draw_networkx_edges(WD, pos, width=weight, ax=axs)\n",
        "axs.axis('off')\n",
        "axs.set_title(r\"$WD$\", fontsize=18)"
      ],
      "metadata": {
        "id": "kC_-sBjbQ1m5"
      },
      "execution_count": null,
      "outputs": []
    },
    {
      "cell_type": "markdown",
      "source": [
        "## 1.5. Grafo Bipartito"
      ],
      "metadata": {
        "id": "J1K-AmjLtPsI"
      }
    },
    {
      "cell_type": "code",
      "source": [
        "list_artists_names = [\n",
        "    'Slow Joy', \n",
        "    'La ciencia simple', \n",
        "    'Origami Angel',  \n",
        "    'Jeff Rosenstock',  \n",
        "    'Millencolin', \n",
        "    'NoFX', \n",
        "    ]"
      ],
      "metadata": {
        "id": "Meg5LIKD496f"
      },
      "execution_count": null,
      "outputs": []
    },
    {
      "cell_type": "code",
      "source": [
        "users_and_artists = { #keys: user_id, value: list of artist the user likes\n",
        "    0 : [0, 1, 2],\n",
        "    1 : [2, 3],\n",
        "    2 : [4, 5],\n",
        "    3 : [2, 4, 5]\n",
        "    }"
      ],
      "metadata": {
        "id": "Q7gIG5mV4RKH"
      },
      "execution_count": null,
      "outputs": []
    },
    {
      "cell_type": "code",
      "source": [
        "list_users = list(users_and_artists.keys())\n",
        "list_users"
      ],
      "metadata": {
        "id": "uIUlo5U45Etv"
      },
      "execution_count": null,
      "outputs": []
    },
    {
      "cell_type": "code",
      "source": [
        "list_artists = list(users_and_artists.values())\n",
        "list_artists"
      ],
      "metadata": {
        "id": "8v0nwBh-5KcP"
      },
      "execution_count": null,
      "outputs": []
    },
    {
      "cell_type": "code",
      "source": [
        "list_artists = list(users_and_artists.values())\n",
        "print(list_artists)\n",
        "list_artists = np.unique(np.concatenate(list_artists))\n",
        "list_artists"
      ],
      "metadata": {
        "id": "WsQN_9TN-OsQ"
      },
      "execution_count": null,
      "outputs": []
    },
    {
      "cell_type": "code",
      "source": [
        "U = len(list_users)\n",
        "A = len(list_artists)\n",
        "print(\"U = %i; A = %i\" % (U, A))"
      ],
      "metadata": {
        "id": "HWyxcHRl5WCX"
      },
      "execution_count": null,
      "outputs": []
    },
    {
      "cell_type": "code",
      "source": [
        "conn_matrix = np.zeros(shape=(U,A))\n",
        "conn_matrix"
      ],
      "metadata": {
        "id": "TpJIkO_C42Iv"
      },
      "execution_count": null,
      "outputs": []
    },
    {
      "cell_type": "code",
      "source": [
        "users_and_artists[1]"
      ],
      "metadata": {
        "id": "c72qKDz16aZ3"
      },
      "execution_count": null,
      "outputs": []
    },
    {
      "cell_type": "code",
      "source": [
        "for i_u in range(U):\n",
        "  print(users_and_artists[i_u])\n",
        "  conn_matrix[i_u, users_and_artists[i_u]] = 1"
      ],
      "metadata": {
        "id": "-DlfBT5h5ihv"
      },
      "execution_count": null,
      "outputs": []
    },
    {
      "cell_type": "code",
      "source": [
        "conn_matrix"
      ],
      "metadata": {
        "id": "VmLG1NeWPD7L"
      },
      "execution_count": null,
      "outputs": []
    },
    {
      "cell_type": "markdown",
      "source": [
        "### 1.5.1. Grafo de usuarios conectados por artistas"
      ],
      "metadata": {
        "id": "Z5Jcr_ccQKFz"
      }
    },
    {
      "cell_type": "code",
      "source": [
        "conn_matrix[0,:]"
      ],
      "metadata": {
        "id": "sU6xEaulRW18"
      },
      "execution_count": null,
      "outputs": []
    },
    {
      "cell_type": "code",
      "source": [
        "conn_matrix[1,:]"
      ],
      "metadata": {
        "id": "Pr4mLY4cRbTd"
      },
      "execution_count": null,
      "outputs": []
    },
    {
      "cell_type": "code",
      "source": [
        "users_mat = np.zeros(shape=(U,U))\n",
        "for i in range(U):\n",
        "  for j in range(i+1, U):\n",
        "    if np.sum(conn_matrix[i,:]*conn_matrix[j,:])>0:\n",
        "      users_mat[i,j] = np.sum(conn_matrix[i,:]*conn_matrix[j,:]) # 1\n",
        "    users_mat[j,i] = users_mat[i,j]"
      ],
      "metadata": {
        "id": "v0FRwP4qPE1q"
      },
      "execution_count": null,
      "outputs": []
    },
    {
      "cell_type": "code",
      "source": [
        "users_mat"
      ],
      "metadata": {
        "id": "-2MBwj6qRucE"
      },
      "execution_count": null,
      "outputs": []
    },
    {
      "cell_type": "code",
      "source": [
        "G_users = nx.Graph(users_mat)"
      ],
      "metadata": {
        "id": "TQ7TWD6dXQe-"
      },
      "execution_count": null,
      "outputs": []
    },
    {
      "cell_type": "code",
      "source": [
        "labels = nx.get_edge_attributes(G_users,'weight')"
      ],
      "metadata": {
        "id": "WsMTWlEDjhrp"
      },
      "execution_count": null,
      "outputs": []
    },
    {
      "cell_type": "code",
      "source": [
        "fig, axs = plt.subplots(figsize=(4,4), facecolor='w', nrows=1, ncols=1, constrained_layout=True)\n",
        "pos = nx.layout.circular_layout(G_users)\n",
        "nx.draw_networkx_nodes(G_users, pos, node_color=\"#52cfa5\", linewidths=1, ax=axs, node_size=500)\n",
        "nx.draw_networkx_edges(G_users, pos, width=list(labels.values()), ax=axs)\n",
        "nx.draw_networkx_edge_labels(G_users,pos=pos,edge_labels=labels)\n",
        "axs.axis('off')\n",
        "axs.set_title(r\"$Graph\\ (Users)$\", fontsize=12)"
      ],
      "metadata": {
        "id": "auy3DZNnUmaf"
      },
      "execution_count": null,
      "outputs": []
    },
    {
      "cell_type": "markdown",
      "source": [
        "### 1.5.2. Grafo de artistas conectados por usuarios"
      ],
      "metadata": {
        "id": "QsDGb0lSQOGk"
      }
    },
    {
      "cell_type": "code",
      "source": [
        "artists_mat = np.zeros(shape=(A,A))\n",
        "for i in range(A):\n",
        "  for j in range(i+1, A):\n",
        "    if np.sum(conn_matrix[:,i]*conn_matrix[:,j])>0:\n",
        "      artists_mat[i,j] = np.sum(conn_matrix[:,i]*conn_matrix[:,j]) #1\n",
        "      artists_mat[j,i] = artists_mat[i,j]"
      ],
      "metadata": {
        "id": "JbO69ub0SKAc"
      },
      "execution_count": null,
      "outputs": []
    },
    {
      "cell_type": "code",
      "source": [
        "artists_mat"
      ],
      "metadata": {
        "id": "GmFrOFuLSdxU"
      },
      "execution_count": null,
      "outputs": []
    },
    {
      "cell_type": "code",
      "source": [
        "G_artists = nx.Graph(artists_mat)"
      ],
      "metadata": {
        "id": "otc2O0tqZPen"
      },
      "execution_count": null,
      "outputs": []
    },
    {
      "cell_type": "code",
      "source": [
        "labels = nx.get_edge_attributes(G_artists,'weight')"
      ],
      "metadata": {
        "id": "wjQk28btehpA"
      },
      "execution_count": null,
      "outputs": []
    },
    {
      "cell_type": "code",
      "source": [
        "labels"
      ],
      "metadata": {
        "id": "DkwZN5zAiz9y"
      },
      "execution_count": null,
      "outputs": []
    },
    {
      "cell_type": "code",
      "source": [
        "list(labels.values())"
      ],
      "metadata": {
        "id": "Nh2zgFoCjRNB"
      },
      "execution_count": null,
      "outputs": []
    },
    {
      "cell_type": "code",
      "source": [
        "fig, axs = plt.subplots(figsize=(4,4), facecolor='w', nrows=1, ncols=1, constrained_layout=True)\n",
        "pos = nx.layout.circular_layout(G_artists)\n",
        "nx.draw_networkx_nodes(G_artists, pos, node_color=\"#52cfa5\", linewidths=1, ax=axs, node_size=400)\n",
        "nx.draw_networkx_edges(G_artists, pos, width=list(labels.values()), ax=axs)\n",
        "nx.draw_networkx_edge_labels(G_artists,pos=pos,edge_labels=labels)\n",
        "axs.axis('off')\n",
        "axs.set_title(r\"$Graph\\ (Users)$\", fontsize=12)"
      ],
      "metadata": {
        "id": "HFYnsO-9ZPeq"
      },
      "execution_count": null,
      "outputs": []
    },
    {
      "cell_type": "markdown",
      "source": [
        "---"
      ],
      "metadata": {
        "id": "C6pXVP8G1Gdf"
      }
    },
    {
      "cell_type": "markdown",
      "source": [
        "# 2. Topología y propiedades de la red"
      ],
      "metadata": {
        "id": "nVJNeCKK1H21"
      }
    },
    {
      "cell_type": "markdown",
      "source": [
        "**Ejemplo:** Florenntine families graph"
      ],
      "metadata": {
        "id": "aIe8ZJ7KueAl"
      }
    },
    {
      "cell_type": "code",
      "source": [
        "G = nx.florentine_families_graph()"
      ],
      "metadata": {
        "id": "73aBlGvRRGCJ"
      },
      "execution_count": null,
      "outputs": []
    },
    {
      "cell_type": "code",
      "source": [
        "pos = nx.spring_layout(G, iterations=50, seed=0)"
      ],
      "metadata": {
        "id": "BjYFVRNNRtdi"
      },
      "execution_count": null,
      "outputs": []
    },
    {
      "cell_type": "code",
      "source": [
        "fig, axs = plt.subplots(figsize=(5,5), facecolor='w', nrows=1, ncols=1, constrained_layout=True) #, gridspec_kw={'width_ratios': [1.5, 1]})\n",
        "sc = nx.draw_networkx_nodes(G, pos, node_color='white', linewidths=2, edgecolors='k', ax=axs)\n",
        "nx.draw_networkx_edges(G, pos, width=2, ax=axs)\n",
        "axs.axis('off')\n",
        "axs.set_title(\"$Florentine\\ families\\ graph$\", fontsize=10)"
      ],
      "metadata": {
        "id": "4AG2ZpRBQP2q"
      },
      "execution_count": null,
      "outputs": []
    },
    {
      "cell_type": "markdown",
      "source": [
        "## 2.1. Métricas de topología"
      ],
      "metadata": {
        "id": "g87wEKMHuFVV"
      }
    },
    {
      "cell_type": "markdown",
      "source": [
        "#### 2.1.1. Tamaño de la red ($N_i$)"
      ],
      "metadata": {
        "id": "dRyFm5exvz-R"
      }
    },
    {
      "cell_type": "code",
      "source": [
        "network_size = G.number_of_nodes() \n",
        "network_size"
      ],
      "metadata": {
        "id": "gxd5z-37ztbA"
      },
      "execution_count": null,
      "outputs": []
    },
    {
      "cell_type": "markdown",
      "source": [
        "#### 2.1.2. Número de enlaces ($E_i$)"
      ],
      "metadata": {
        "id": "zokuN86Bv5GP"
      }
    },
    {
      "cell_type": "code",
      "source": [
        "number_of_links = G.number_of_edges() \n",
        "number_of_links"
      ],
      "metadata": {
        "id": "aUXrS2rZz-PJ"
      },
      "execution_count": null,
      "outputs": []
    },
    {
      "cell_type": "markdown",
      "source": [
        "#### 2.1.3. Grado del nodo ($K_{i,u}$)"
      ],
      "metadata": {
        "id": "feOO0Tz9UJ8S"
      }
    },
    {
      "cell_type": "code",
      "source": [
        "G.degree()"
      ],
      "metadata": {
        "id": "O4P2jxouS8DJ"
      },
      "execution_count": null,
      "outputs": []
    },
    {
      "cell_type": "code",
      "source": [
        "dict(G.degree()).values()"
      ],
      "metadata": {
        "id": "hJfqVh2_TKHY"
      },
      "execution_count": null,
      "outputs": []
    },
    {
      "cell_type": "code",
      "source": [
        "G_degrees = np.array(list(dict(G.degree()).values()))\n",
        "G_degrees"
      ],
      "metadata": {
        "id": "nnvqqEHARl_w"
      },
      "execution_count": null,
      "outputs": []
    },
    {
      "cell_type": "markdown",
      "source": [
        "#### 2.1.4. Densidad ($d_i$)"
      ],
      "metadata": {
        "id": "qw_3-96IwE1R"
      }
    },
    {
      "cell_type": "markdown",
      "source": [
        " Tasa de conexiones $d_i = \\frac{2 E_i}{N_i (N_i - 1)}$ para grafos no-dirigidos y $d_i = \\frac{E_i}{N_i (N_i - 1)}$ para grafos dirigidos."
      ],
      "metadata": {
        "id": "TU1PNgZaw74_"
      }
    },
    {
      "cell_type": "code",
      "source": [
        "density = nx.density(G) \n",
        "density, 2*(number_of_links/(network_size*(network_size-1)))"
      ],
      "metadata": {
        "id": "H3QF0YTcz_ea"
      },
      "execution_count": null,
      "outputs": []
    },
    {
      "cell_type": "markdown",
      "source": [
        "#### 2.1.5. Grado (acumulado) de los nodos ($K_i$)"
      ],
      "metadata": {
        "id": "dGzKSB6twIX8"
      }
    },
    {
      "cell_type": "markdown",
      "source": [
        " Número de conexiones en el Grafo $i$.\n",
        " \n",
        " $K_i = \\sum_n k_n$"
      ],
      "metadata": {
        "id": "dhRHFMLWwyC1"
      }
    },
    {
      "cell_type": "code",
      "source": [
        "accumulated_degree = np.sum(G_degrees)\n",
        "accumulated_degree"
      ],
      "metadata": {
        "id": "N084bHSH0w6b"
      },
      "execution_count": null,
      "outputs": []
    },
    {
      "cell_type": "markdown",
      "source": [
        "#### 2.1.6. Numero de componentes conexas ($c_i$)"
      ],
      "metadata": {
        "id": "QUFsDIUlxFjk"
      }
    },
    {
      "cell_type": "markdown",
      "source": [
        "Estructura de la red / fragmentación."
      ],
      "metadata": {
        "id": "7SK6V9SdzK_b"
      }
    },
    {
      "cell_type": "code",
      "source": [
        "number_connected_components = nx.number_connected_components(G)\n",
        "number_connected_components"
      ],
      "metadata": {
        "id": "oKXxGubE1aRg"
      },
      "execution_count": null,
      "outputs": []
    },
    {
      "cell_type": "markdown",
      "source": [
        "#### 2.1.7. Nodos en la componente principal ($S_i$)"
      ],
      "metadata": {
        "id": "KSiqIahYxKBO"
      }
    },
    {
      "cell_type": "code",
      "source": [
        "l_S = [G.subgraph(c).copy() for c in nx.connected_components(G)]\n",
        "l_S[0]"
      ],
      "metadata": {
        "id": "v68dUf7YcN3X"
      },
      "execution_count": null,
      "outputs": []
    },
    {
      "cell_type": "code",
      "source": [
        "A = np.array([\n",
        "    [0,1,1,0,0],\n",
        "    [1,0,1,0,0],\n",
        "    [0,1,0,0,0],\n",
        "    [0,0,0,0,1],\n",
        "    [0,0,0,1,0],\n",
        "])"
      ],
      "metadata": {
        "id": "fJX3j2VKheDl"
      },
      "execution_count": null,
      "outputs": []
    },
    {
      "cell_type": "code",
      "source": [
        "test_G = nx.Graph(A)"
      ],
      "metadata": {
        "id": "Vu5yWqRjhtcp"
      },
      "execution_count": null,
      "outputs": []
    },
    {
      "cell_type": "code",
      "source": [
        "nx.draw(test_G)"
      ],
      "metadata": {
        "id": "Yk8R_hmOhrH-"
      },
      "execution_count": null,
      "outputs": []
    },
    {
      "cell_type": "code",
      "source": [
        "l_S = [test_G.subgraph(c).copy() for c in nx.connected_components(test_G)]\n",
        "len(l_S)"
      ],
      "metadata": {
        "id": "K_yBsJN0iFfP"
      },
      "execution_count": null,
      "outputs": []
    },
    {
      "cell_type": "code",
      "source": [
        "nx.draw(l_S[0]) # componente principal"
      ],
      "metadata": {
        "id": "q635D6epiL51"
      },
      "execution_count": null,
      "outputs": []
    },
    {
      "cell_type": "code",
      "source": [
        "nx.draw(l_S[1])"
      ],
      "metadata": {
        "id": "Ui3QYIGdiOPu"
      },
      "execution_count": null,
      "outputs": []
    },
    {
      "cell_type": "markdown",
      "source": [
        "#### 2.1.8. Coeficiente de clustering promedio $\\langle C_i \\rangle$"
      ],
      "metadata": {
        "id": "xSe7DMeoxXN_"
      }
    },
    {
      "cell_type": "markdown",
      "source": [
        "Probabilidad de vecinos comunes:\n",
        "\n",
        "$\\langle C_i \\rangle = \\frac{1}{N_i} \\sum_n C^\\prime_{n,i}$, donde $C^\\prime_{n,i} = \\frac{E^{(n)}}{k_n(k_n-1)}$"
      ],
      "metadata": {
        "id": "J9vUw3InxjRZ"
      }
    },
    {
      "cell_type": "code",
      "source": [
        "mean_clustering_coef = nx.average_clustering(G)\n",
        "mean_clustering_coef"
      ],
      "metadata": {
        "id": "Wo8eEwLt1kIp"
      },
      "execution_count": null,
      "outputs": []
    },
    {
      "cell_type": "markdown",
      "source": [
        "#### 2.1.9. Número de triángulos ($\\#\\Delta$)"
      ],
      "metadata": {
        "id": "4zILhrWV2zIS"
      }
    },
    {
      "cell_type": "markdown",
      "source": [
        "Numero de triangulos que incluyen a un determinado nodo como uno de sus vertices."
      ],
      "metadata": {
        "id": "ypQOAYoT3phF"
      }
    },
    {
      "cell_type": "code",
      "source": [
        "nx.triangles(G)"
      ],
      "metadata": {
        "id": "9wSTJQ6F4My4"
      },
      "execution_count": null,
      "outputs": []
    },
    {
      "cell_type": "markdown",
      "source": [
        "#### 2.1.10. Longitud promedio del camino $\\langle l \\rangle$"
      ],
      "metadata": {
        "id": "LN--U8WZyP2Z"
      }
    },
    {
      "cell_type": "markdown",
      "source": [
        "Accesibilidad social entre no interactuantes:\n",
        "\n",
        "$\\langle l \\rangle = \\sum \\sum l_{i,j}$"
      ],
      "metadata": {
        "id": "DK61B2VFyg35"
      }
    },
    {
      "cell_type": "code",
      "source": [
        "average_shortest_path_length = nx.average_shortest_path_length(G)\n",
        "average_shortest_path_length"
      ],
      "metadata": {
        "id": "SPRPArcx2kev"
      },
      "execution_count": null,
      "outputs": []
    },
    {
      "cell_type": "markdown",
      "source": [
        "## 2.2. Ejemplo: Comparativa de la topologia de dos redes"
      ],
      "metadata": {
        "id": "RgWDUojbunQl"
      }
    },
    {
      "cell_type": "code",
      "source": [
        "G1 = nx.florentine_families_graph()\n",
        "G2 = nx.karate_club_graph()"
      ],
      "metadata": {
        "id": "1Elo-OnivSU7"
      },
      "execution_count": null,
      "outputs": []
    },
    {
      "cell_type": "code",
      "source": [
        "fig, axs = plt.subplots(figsize=(7,5), facecolor='w', nrows=1, ncols=2, constrained_layout=True) #, gridspec_kw={'width_ratios': [1.5, 1]})\n",
        "\n",
        "pos = nx.spring_layout(G1, iterations=100, seed=0)\n",
        "sc = nx.draw_networkx_nodes(G1, pos, node_color='royalblue', linewidths=2, edgecolors='k', ax=axs[0], node_size=100)\n",
        "nx.draw_networkx_edges(G1, pos, width=1, ax=axs[0])\n",
        "\n",
        "pos = nx.spring_layout(G2, iterations=100, seed=0)\n",
        "sc = nx.draw_networkx_nodes(G2, pos, node_color='orange', linewidths=2, edgecolors='k', ax=axs[1], node_size=100)\n",
        "nx.draw_networkx_edges(G2, pos, width=1, ax=axs[1])\n",
        "axs[0].axis('off'); axs[1].axis('off');\n",
        "axs[0].set_title('\"Florentine families\"', fontsize=16)\n",
        "axs[1].set_title('\"Karate club\"', fontsize=16)"
      ],
      "metadata": {
        "id": "AZTVyivbvGz4"
      },
      "execution_count": null,
      "outputs": []
    },
    {
      "cell_type": "markdown",
      "source": [
        "Así, para ambos grafos, calcularemos las siguientes métricas:\n",
        "+ Tamaño de la red ($N_i$)\n",
        "+ Número de enlaces ($E_i$)\n",
        "+ Grado medio de los nodos ($\\langle K_{i} \\rangle$)\n",
        "+ Densidad ($d_i$)\n",
        "+ Grado acumulado ($K_i$)\n",
        "+ Coeficiente medio de agrupación ($\\langle C_i \\rangle$)\n",
        "+ Número medio de triángulos ($\\langle \\# \\Delta \\rangle$)\n",
        "+ Longitud media del camino ($\\langle l \\rangle$)"
      ],
      "metadata": {
        "id": "CyxUK944xEbM"
      }
    },
    {
      "cell_type": "code",
      "source": [
        "def get_topology_values(G):\n",
        "  # input: `G` Networkx Graph\n",
        "  # out: dict (key: metric name, value: metric value)\n",
        "  d_topology_vals = {\n",
        "      \"network_size\" : G.number_of_nodes(),\n",
        "      \"number_of_links\" : G.number_of_edges(),\n",
        "      \"avg_degree\" : np.mean(list(dict(G.degree()).values())),\n",
        "      \"density\" : nx.density(G),\n",
        "      \"accumulated_degeree\" : np.sum(list(dict(G.degree()).values())),\n",
        "      \"avg_clustering_coef\" : nx.average_clustering(G),\n",
        "      \"avg_triangles\" : np.mean(list(nx.triangles(G).values())),\n",
        "      \"avg_path_length\" : nx.average_shortest_path_length(G),\n",
        "  }\n",
        "\n",
        "  return d_topology_vals"
      ],
      "metadata": {
        "id": "PpCckcZhwZu1"
      },
      "execution_count": null,
      "outputs": []
    },
    {
      "cell_type": "code",
      "source": [
        "topology_G1 = get_topology_values(G1)\n",
        "topology_G2 = get_topology_values(G2)"
      ],
      "metadata": {
        "id": "S94XWBgazPpL"
      },
      "execution_count": null,
      "outputs": []
    },
    {
      "cell_type": "code",
      "source": [
        "df = pd.DataFrame([topology_G1, topology_G2], index=[\"G_1\", \"G_2\"])"
      ],
      "metadata": {
        "id": "ae9Vi0_SzWQm"
      },
      "execution_count": null,
      "outputs": []
    },
    {
      "cell_type": "code",
      "source": [
        "df.T"
      ],
      "metadata": {
        "id": "kXAtrl6Kwiip"
      },
      "execution_count": null,
      "outputs": []
    },
    {
      "cell_type": "markdown",
      "source": [
        "---"
      ],
      "metadata": {
        "id": "XjaN8PQ31WVG"
      }
    },
    {
      "cell_type": "markdown",
      "source": [
        "# 3. Análisis de centralidad"
      ],
      "metadata": {
        "id": "K3Bxm1ZRpgXu"
      }
    },
    {
      "cell_type": "markdown",
      "source": [
        "## 3.1. Centralidad del grado (Degree centrality)"
      ],
      "metadata": {
        "id": "qyVqeDktq1KO"
      }
    },
    {
      "cell_type": "markdown",
      "source": [
        "En networkx, podemos obtener la centralidad de grado utilizando el método `nx.degree_centrality(G)`, con `G` el Graph."
      ],
      "metadata": {
        "id": "UzTZEBYUJDhG"
      }
    },
    {
      "cell_type": "code",
      "source": [
        "nx.degree_centrality(G)"
      ],
      "metadata": {
        "id": "TcjdlTjEkf8R"
      },
      "execution_count": null,
      "outputs": []
    },
    {
      "cell_type": "code",
      "source": [
        "degree_centrality = np.array(list(nx.degree_centrality(G).values()))\n",
        "degree_centrality"
      ],
      "metadata": {
        "id": "kJXoG4gSrmet"
      },
      "execution_count": null,
      "outputs": []
    },
    {
      "cell_type": "markdown",
      "source": [
        "Podemos visualizar la centralidad de grado de cada nodo incluyendo estos valores como vector de entrada de `node_color` de la función `draw_networkx_nodes`."
      ],
      "metadata": {
        "id": "Q55kQ1W6KwGd"
      }
    },
    {
      "cell_type": "code",
      "source": [
        "pos = nx.spring_layout(G, iterations=50, seed=0)\n",
        "fig, axs = plt.subplots(figsize=(6,5), facecolor='w', nrows=1, ncols=1)\n",
        "sc = nx.draw_networkx_nodes(\n",
        "    G, pos, node_color=degree_centrality, \n",
        "    linewidths=2, edgecolors='k', ax=axs, cmap='plasma')\n",
        "nx.draw_networkx_edges(G, pos, width=2, ax=axs)\n",
        "axs.axis('off'); axs.set_title(\"Florentine families Network\", fontsize=13)\n",
        "cbar = plt.colorbar(sc, ax=axs, ticks=[])\n",
        "cbar.set_label(\"$Degree\\ centrality$\", fontsize=12)"
      ],
      "metadata": {
        "id": "YArAf398sK4G"
      },
      "execution_count": null,
      "outputs": []
    },
    {
      "cell_type": "markdown",
      "source": [
        "## 3.2. Centralidad de cercanía (Closeness centrality)"
      ],
      "metadata": {
        "id": "wfn4flcDq3mv"
      }
    },
    {
      "cell_type": "code",
      "source": [
        "closeness_centrality = np.array(list(nx.closeness_centrality(G).values()))\n",
        "closeness_centrality"
      ],
      "metadata": {
        "id": "xM2Gf5RbrjUU"
      },
      "execution_count": null,
      "outputs": []
    },
    {
      "cell_type": "code",
      "source": [
        "pos = nx.spring_layout(G, iterations=50, seed=0)\n",
        "fig, axs = plt.subplots(figsize=(6,5), facecolor='w', nrows=1, ncols=1, constrained_layout=True) #, gridspec_kw={'width_ratios': [1.5, 1]})\n",
        "sc = nx.draw_networkx_nodes(G, pos, node_color=closeness_centrality, linewidths=2, edgecolors='k', ax=axs, cmap='plasma')\n",
        "nx.draw_networkx_edges(G, pos, width=2, ax=axs)\n",
        "axs.axis('off')\n",
        "axs.set_title(\"$Florentine\\ families\\ graph$\", fontsize=13)\n",
        "cbar = plt.colorbar(sc, ax=axs, ticks=[])\n",
        "cbar.set_label(\"$Closeness\\ centrality$\", fontsize=12)"
      ],
      "metadata": {
        "id": "yCIwJSSzsPy1"
      },
      "execution_count": null,
      "outputs": []
    },
    {
      "cell_type": "markdown",
      "source": [
        "## 3.3. Centralidad de intermediación (Betweenness centrality)"
      ],
      "metadata": {
        "id": "88qbKPUPq6pP"
      }
    },
    {
      "cell_type": "code",
      "source": [
        "betweenness_centrality = np.array(list(nx.betweenness_centrality(G).values()))\n",
        "betweenness_centrality"
      ],
      "metadata": {
        "id": "tGXd5VjTrpLG"
      },
      "execution_count": null,
      "outputs": []
    },
    {
      "cell_type": "code",
      "source": [
        "pos = nx.spring_layout(G, iterations=50, seed=0)\n",
        "fig, axs = plt.subplots(figsize=(6,5), facecolor='w', nrows=1, ncols=1, constrained_layout=True) #, gridspec_kw={'width_ratios': [1.5, 1]})\n",
        "sc = nx.draw_networkx_nodes(G, pos, node_color=betweenness_centrality, linewidths=2, edgecolors='k', ax=axs, cmap='plasma')\n",
        "nx.draw_networkx_edges(G, pos, width=2, ax=axs)\n",
        "axs.axis('off')\n",
        "axs.set_title(\"$Florentine\\ families\\ graph$\", fontsize=13)\n",
        "cbar = plt.colorbar(sc, ax=axs, ticks=[])\n",
        "cbar.set_label(\"$Betweenness\\ centrality$\", fontsize=12)"
      ],
      "metadata": {
        "id": "Wr_Mpj2osThK"
      },
      "execution_count": null,
      "outputs": []
    },
    {
      "cell_type": "markdown",
      "source": [
        "## 3.4. Eigenvector centrality"
      ],
      "metadata": {
        "id": "TEsUKScbq894"
      }
    },
    {
      "cell_type": "code",
      "source": [
        "eigenvector_centrality = np.array(list(nx.eigenvector_centrality(G).values()))\n",
        "eigenvector_centrality"
      ],
      "metadata": {
        "id": "tx-nLrFzrsrl"
      },
      "execution_count": null,
      "outputs": []
    },
    {
      "cell_type": "code",
      "source": [
        "pos = nx.spring_layout(G, iterations=50, seed=0)\n",
        "fig, axs = plt.subplots(figsize=(6,5), facecolor='w', nrows=1, ncols=1, constrained_layout=True) #, gridspec_kw={'width_ratios': [1.5, 1]})\n",
        "sc = nx.draw_networkx_nodes(G, pos, node_color=eigenvector_centrality, linewidths=2, edgecolors='k', ax=axs, cmap='plasma')\n",
        "nx.draw_networkx_edges(G, pos, width=2, ax=axs)\n",
        "axs.axis('off')\n",
        "axs.set_title(\"$Florentine\\ families\\ graph$\", fontsize=13)\n",
        "cbar = plt.colorbar(sc, ax=axs, ticks=[])\n",
        "cbar.set_label(\"$Eigenvector\\ centrality$\", fontsize=12)"
      ],
      "metadata": {
        "id": "jpVFnkOPsZHR"
      },
      "execution_count": null,
      "outputs": []
    },
    {
      "cell_type": "markdown",
      "source": [
        "---"
      ],
      "metadata": {
        "id": "aqKWq0WK1hy_"
      }
    },
    {
      "cell_type": "markdown",
      "source": [
        "# 4. Análisis de redes a través del tiempo"
      ],
      "metadata": {
        "id": "hhKR6DamhaPB"
      }
    },
    {
      "cell_type": "code",
      "source": [
        "def compute_features_from_graph(G):\n",
        "  d_features = {\n",
        "    'mean_degree' : np.mean(list(dict(G.degree()).values())),\n",
        "    'density' : nx.density(G),\n",
        "    'num_edges' : G.number_of_edges(),\n",
        "    'num_connected_components' : nx.number_connected_components(G),\n",
        "    'mean_clustering_coef' : nx.average_clustering(G),\n",
        "    'num_triangles' : np.mean(list(dict(nx.triangles(G)).values()))\n",
        "  }\n",
        "  return d_features"
      ],
      "metadata": {
        "id": "1eIjkJi-leeA"
      },
      "execution_count": null,
      "outputs": []
    },
    {
      "cell_type": "code",
      "source": [
        "def example_create_tensor():\n",
        "  N = 10 # num nodos\n",
        "\n",
        "  l_edges = list([\n",
        "    [(0,1),(1,2),(0,2),(0,3),(2,3),(3,4),(5,6),(2,6),(6,9),(7,8),(7,9),(8,9)],\n",
        "    [(0,1),(1,2),(0,2),(0,3),(2,3),(3,4),(5,6),(2,6),(6,9),(7,8),(7,9),(0,4)],\n",
        "    [(0,1),(1,2),(0,2),(0,3),(2,3),(3,4),(5,6),(2,6),(6,9),(7,8),(1,9),(5,9)],\n",
        "    [(0,1),(1,2),(0,2),(0,3),(3,4),(5,6),(2,6),(6,9),(7,8),(1,9),(5,9)],\n",
        "    [(0,1),(1,2),(3,4),(5,6),(2,6),(6,9),(7,8),(1,9),(0,2)],\n",
        "    [(0,1),(3,4),(3,6),(5,6),(2,6),(6,9),(7,8),(1,9),(0,2)],\n",
        "    ])\n",
        "  \n",
        "  T = len(l_edges) # num steps\n",
        "\n",
        "  A_T = np.zeros(shape=(T,N,N), dtype=np.int8)\n",
        "  for i in range(len(l_edges)):\n",
        "    for edge in l_edges[i]:\n",
        "      A_T[i, edge[0], edge[1]] = 1;\n",
        "      A_T[i, edge[1], edge[0]] = 1;\n",
        "\n",
        "  return A_T"
      ],
      "metadata": {
        "id": "3oS1AUcjlf6a"
      },
      "execution_count": null,
      "outputs": []
    },
    {
      "cell_type": "markdown",
      "source": [
        "## 4.1. Creación de redes simples como grafos binarios en el tiempo"
      ],
      "metadata": {
        "id": "D1gxm_xQppps"
      }
    },
    {
      "cell_type": "code",
      "source": [
        "A_T = example_create_tensor()"
      ],
      "metadata": {
        "id": "tXkoreG3F1K2"
      },
      "execution_count": null,
      "outputs": []
    },
    {
      "cell_type": "code",
      "source": [
        "T = A_T.shape[0]\n",
        "N = A_T.shape[1]\n",
        "print(\"# steps:\", T)\n",
        "print(\"# nodes:\", N)"
      ],
      "metadata": {
        "id": "qWwOt9g-G05_"
      },
      "execution_count": null,
      "outputs": []
    },
    {
      "cell_type": "markdown",
      "source": [
        "Creación de una lista de grafos `l_G` a partir de matrices de adyacencia"
      ],
      "metadata": {
        "id": "34NlAqcpmYOC"
      }
    },
    {
      "cell_type": "code",
      "source": [
        "l_G = [nx.Graph(A_T[i,:,:]) for i in range(T)]"
      ],
      "metadata": {
        "id": "MhJyqtaaKEfR"
      },
      "execution_count": null,
      "outputs": []
    },
    {
      "cell_type": "markdown",
      "source": [
        "Visualización de gráficos y matrices de disimilitud a lo largo del tiempo"
      ],
      "metadata": {
        "id": "quZ5ix6nml46"
      }
    },
    {
      "cell_type": "code",
      "source": [
        "pos = nx.spring_layout(l_G[0], iterations=100, seed=0)"
      ],
      "metadata": {
        "id": "k-61Ya3NKAF9"
      },
      "execution_count": null,
      "outputs": []
    },
    {
      "cell_type": "code",
      "source": [
        "fig, axs = plt.subplots(figsize=(3*T,6), facecolor=\"w\", nrows=2, ncols=T)\n",
        "for i in range(T):\n",
        "  # graph visualization\n",
        "  nx.draw_networkx_nodes(\n",
        "      l_G[i], pos, node_color='white', linewidths=2, \n",
        "      edgecolors='k', ax=axs[0][i], node_size=100)\n",
        "  nx.draw_networkx_edges(l_G[i], pos, width=2, ax=axs[0][i])\n",
        "  axs[0][i].spines[['left', 'right', 'top', 'bottom']].set_visible(False)\n",
        "  axs[0][i].set_title(\"$G_{t=%i}$\" % (i+1), fontsize=18)\n",
        "  \n",
        "  # adjacency matrix\n",
        "  axs[1][i].imshow(A_T[i,:,:], cmap=\"Greys_r\")\n",
        "  axs[1][i].imshow(A_T[i,:,:], cmap=\"Greys_r\")\n",
        "  axs[1][i].set_xticks(range(N)); axs[1][i].set_yticks(range(N));"
      ],
      "metadata": {
        "id": "rGBuY4qoGPmr"
      },
      "execution_count": null,
      "outputs": []
    },
    {
      "cell_type": "markdown",
      "source": [
        "## 4.2. Análisis de las métricas topológicas en el tiempo"
      ],
      "metadata": {
        "id": "Pn2-cPDSpP0e"
      }
    },
    {
      "cell_type": "code",
      "source": [
        "l_features = [compute_features_from_graph(l_G[i]) for i in range(T)]"
      ],
      "metadata": {
        "id": "BOPvsH2uM3vN"
      },
      "execution_count": null,
      "outputs": []
    },
    {
      "cell_type": "code",
      "source": [
        "df_features = pd.DataFrame(l_features)\n",
        "df_features"
      ],
      "metadata": {
        "id": "etR6K1MzNGiA"
      },
      "execution_count": null,
      "outputs": []
    },
    {
      "cell_type": "code",
      "source": [
        "n_features = len(df_features.columns)"
      ],
      "metadata": {
        "id": "yYf1VTGQNj4k"
      },
      "execution_count": null,
      "outputs": []
    },
    {
      "cell_type": "code",
      "source": [
        "l_notation_metric = {\n",
        "    'mean_degree' : r'$deg$',\n",
        "    'density' : r'$d$',\n",
        "    'num_edges' : r'$E$',\n",
        "    'num_connected_components' : r'$c$',\n",
        "    'mean_clustering_coef' : r'$\\langle C \\rangle$',\n",
        "    'num_triangles' : r'$\\# \\Delta$'\n",
        "}"
      ],
      "metadata": {
        "id": "KnY1mt9oPY75"
      },
      "execution_count": null,
      "outputs": []
    },
    {
      "cell_type": "markdown",
      "source": [
        "## 4.3. Visualización de trazas"
      ],
      "metadata": {
        "id": "1Qa-if8jpc7D"
      }
    },
    {
      "cell_type": "code",
      "source": [
        "fig, axs = plt.subplots(\n",
        "    facecolor=\"w\", figsize=(4,n_features*1), \n",
        "    nrows=n_features, ncols=1, constrained_layout=True,\n",
        "    sharex=True\n",
        "    )\n",
        "for i in range(n_features):\n",
        "  axs[i].plot(\n",
        "      df_features[df_features.columns.values[i]], \n",
        "      marker=\"o\", color=\"k\", fillstyle='none', lw=1)\n",
        "  metric_name = df_features.columns.values[i]\n",
        "  axs[i].set_ylabel(\"%s$(G_i)$\" % l_notation_metric[metric_name], fontsize=12)\n",
        "  axs[i].spines[['right', 'top']].set_visible(False)\n",
        "  axs[i].set_xticks(range(1,n_features+1)); #axs[i].set_yticks([])\n",
        "  axs[i].set_xlim([0.95, len(df_features.index)-0.95])\n",
        "  axs[i].yaxis.set_label_coords(-0.15,0.5)\n",
        "\n",
        "axs[-1].set_xlabel(\"Step $i$\")"
      ],
      "metadata": {
        "id": "YizZ-70hNOk0"
      },
      "execution_count": null,
      "outputs": []
    },
    {
      "cell_type": "markdown",
      "source": [
        "**Nota:** Para un $T$ creciente, podemos usar estas características para predecir estados futuros de la red! \n",
        "\n",
        "¿Tienes otras ideas sobre el uso de estas trazas?"
      ],
      "metadata": {
        "id": "7spZ01GDVhWR"
      }
    },
    {
      "cell_type": "markdown",
      "source": [
        "----"
      ],
      "metadata": {
        "id": "y5uaCxVY1oKu"
      }
    }
  ]
}